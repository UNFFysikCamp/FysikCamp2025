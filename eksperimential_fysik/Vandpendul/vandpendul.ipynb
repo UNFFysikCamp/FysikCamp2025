{
 "cells": [
  {
   "cell_type": "code",
   "execution_count": null,
   "metadata": {},
   "outputs": [],
   "source": [
    "import numpy as np\n",
    "import matplotlib.pyplot as plt\n",
    "from scipy.optimize import curve_fit\n",
    "\n",
    "from google.colab import drive\n",
    "drive.mount('/content/drive')\n",
    "path = \"/content/drive/MyDrive/Colab Notebooks/FysikCamp2024/eksperimential_fysik/Vandpendul/\"\n",
    "\n",
    "filnavn = \"test.txt\"\n",
    "\n",
    "data = np.loadtxt(path+filnavn, skiprows=3, dtype='float')  #load datafilen\n",
    "t_værdier= data[:,0]   #første kolonne er tids værdier\n",
    "V_værdier= data[:,1]   #anden kolonne er de målte spændinger"
   ]
  },
  {
   "cell_type": "code",
   "execution_count": null,
   "metadata": {},
   "outputs": [],
   "source": [
    "def pendul_funktion(t,A,k,c,d):\n",
    "    \n",
    "    return #indsæt funktion\"\n",
    "\n",
    "param, cov = curve_fit(pendul_funktion, \"Jeres x-data\", \"jeres y-data\", p0=\"indsæt jeres gæt\")\n",
    "\n",
    "plt.figure(0)\n",
    "plt.grid()#Denne linje gør at der kommer gitter på jeres plot\n",
    "plt.plot(\"x-værdier\", \"y-værdier\")\n",
    "plt.plot(\"x-værdier\",\"fundne funktion (x-værdier)\")"
   ]
  }
 ],
 "metadata": {
  "language_info": {
   "name": "python"
  },
  "orig_nbformat": 4
 },
 "nbformat": 4,
 "nbformat_minor": 2
}

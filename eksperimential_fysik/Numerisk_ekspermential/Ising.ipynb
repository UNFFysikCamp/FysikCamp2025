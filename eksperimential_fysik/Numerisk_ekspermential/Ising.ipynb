{
 "cells": [
  {
   "cell_type": "markdown",
   "metadata": {},
   "source": [
    "# Ising Model\n",
    "\n",
    "Ising modellen er en matematisk model, for at forstå termodynamiske systemer bedre. Det er ikke et rigtigt fysisk system, men kan give rigtig god intuition om hvordan, systemer virker. Vi kommer til at se på det som en magnet, specifikt en ferromagnet. Vi skal prøve at simulere magneten og se på dens faseovergang, hvor den mister dens magnetiske effekt ved højere tempertur.\n",
    "\n",
    "Den måde Ising model virker på, hvis vi ser det for en magnet, er at vi har et gitter af spins (se sidste afsnit af magnetisme). De kan enten være $+1$ eller $-1$, som svarer til spin op eller ned, og de kobler til deres 'naboer', hvor de gerne vil vende samme vej. Den varme der er i systemet kan få dem til at vende en anden vej ved at lade systemet 'ryste' lidt."
   ]
  },
  {
   "cell_type": "markdown",
   "metadata": {},
   "source": [
    "Til det her eksperiment, skal vi bruge tre pakker, numpy og matplotlib som I kender for at gøre koden lettere at skrive, også numba's njit som for koden til at kunne kører merkant hurtigere."
   ]
  },
  {
   "cell_type": "code",
   "execution_count": null,
   "metadata": {},
   "outputs": [],
   "source": [
    "import numpy as np\n",
    "import matplotlib.pyplot as plt\n",
    "from numba import njit\n",
    "from IPython.display import HTML\n",
    "import matplotlib.animation as animation"
   ]
  },
  {
   "cell_type": "markdown",
   "metadata": {},
   "source": [
    "## 1D\n",
    "\n",
    "Den 1 dimentionnelle ising model kan løses i håden, og I hører meget mildt om det, hvis I tager magnetisme emnet, men det er en svær udledning, med nogle approkismationer, derfor vi vil her prøve at simulere resultatet.\n",
    "\n",
    "Det som der er specielt i den en dimensionelle er at vi ser den som periodisk, så punkt nummer N er ved siden af det første punkt så det laver en cirkel."
   ]
  },
  {
   "cell_type": "markdown",
   "metadata": {},
   "source": [
    "Først skal I lave en funktion som laver start tilstanden, skal være givet ved en længde N, hvor der er $+1$ eller $-1$ på alle som er tilfældigt sadt. (Til det kan jeg anefale numpy's random.choice)"
   ]
  },
  {
   "cell_type": "code",
   "execution_count": null,
   "metadata": {},
   "outputs": [],
   "source": [
    "def initial_state(N):\n",
    "    # Indsæt kode her\n",
    "\n",
    "initial_state(10)"
   ]
  },
  {
   "cell_type": "markdown",
   "metadata": {},
   "source": [
    "Nu skal vi så kunne regne energien af systemet. Energien er givet ved formelen\n",
    "\\begin{equation}\n",
    "    E = \\sum_{i,j} -J_{i,j}\\sigma_i\\sigma_{j}\n",
    "\\end{equation}\n",
    "Her er $\\sigma_i$ spinnet i det i'te punkt og $J_{i,j}$ er konstanten der beskriver styrken af interaktionen mellem punkt $i$ og $j$. I skal være opmærksomme på at der kun er en intereaktion mellem punkter som er ved siden af hinanden og at interaktionen er den samme for dem alle naboer, så det kan skrives som\n",
    "\\begin{equation}\n",
    "    E = -J\\sum_{i} \\sigma_i\\sigma_{i+1}\n",
    "\\end{equation}\n",
    "(Altså kun en summer over alle naboer i stedet for alle punkter)\n",
    "\n",
    "I skal nu prøve at skrive den funktion"
   ]
  },
  {
   "cell_type": "code",
   "execution_count": null,
   "metadata": {},
   "outputs": [],
   "source": [
    "#@njit\n",
    "def energy(state, J=1):\n",
    "    # Indsæt kode her"
   ]
  },
  {
   "cell_type": "markdown",
   "metadata": {},
   "source": [
    "Nu skal vi så også kunne regne hvor meget den magnetiske effekt er. Den magnetiske effekt er givet ved\n",
    "\\begin{equation}\n",
    "    m = \\sum_i \\sigma_i\n",
    "\\end{equation}\n",
    "\n",
    "Nu skal i så prøve at lave en funktion som regner det."
   ]
  },
  {
   "cell_type": "code",
   "execution_count": null,
   "metadata": {},
   "outputs": [],
   "source": [
    "#@njit\n",
    "def magnetization(state):\n",
    "    # Indsæt kode her"
   ]
  },
  {
   "cell_type": "markdown",
   "metadata": {},
   "source": [
    "Nu kommer den store så, I skal lave en funktion som opdatere tilstanden. Den måde du skal gøre det er ved følgende algoritme\n",
    "\n",
    "1) Vælge et tilfældig indeks\n",
    " \n",
    "2) Så regner vi foreskellen i energi, hvis du flippede det. I kan prøve at finde hvad det er fra energien som er defineret før \n",
    "\n",
    "3) Nu skal vi så finde værdien af $\\exp{(-\\frac{E_{diff}}{T})}$\n",
    "\n",
    "4) Så tager vi at hvis et tilfældigt tal mellem 0 og 1 er mindre end $\\exp{(-\\frac{E_{diff}}{T})}$ så flipper det sted vi kigger på vi den ellers gør vi ikke \n",
    "\n",
    "5) Så skal du køre det et antal af gang ligmed antal er punkter\n",
    "\n",
    "\n",
    "Grunden til at vi vælger specifikt funktionen $\\exp{(-\\frac{E_{diff}}{T})}$, er fordi vi gerne vil kigge på de \"vigtige\" steder, hvor i normal Monte Carlo, går vi i gennem alle tilstande. Derfor skal vi bruge en funktion som opfylder $\\frac{F(x)}{F(1/x)} = x$. Dette krav kommer af et der skal være balance mellem to tilstande. $x$ repræsenterer energi forskellen af de to tilstanden \n",
    "\n",
    "Det krav er der en række funktioner som gør som f.eks. $\\min(1,\\exp{(-\\frac{E_{diff}}{T})})$. Den funktion kaldes Metropolis funktionen. Vi vælger specifikt denne fordi den er nem og forstå specielt da eksponentiel funktionen beskriver godt hvor sandsynlighed en tilstand er."
   ]
  },
  {
   "cell_type": "code",
   "execution_count": null,
   "metadata": {},
   "outputs": [],
   "source": [
    "#@njit\n",
    "def update(state, T=0.01, J=1):\n",
    "    # Indsæt kode her"
   ]
  },
  {
   "cell_type": "markdown",
   "metadata": {},
   "source": [
    "Her skal du så regne energien, magnetiseringen, og tilstanden. For 100 opdateringer og tilføje det til en liste."
   ]
  },
  {
   "cell_type": "code",
   "execution_count": null,
   "metadata": {},
   "outputs": [],
   "source": []
  },
  {
   "cell_type": "markdown",
   "metadata": {},
   "source": [
    "Nu skal du prøve at plotte magnetisering og energien for at sikre at du er nået den vedvarende tilstand"
   ]
  },
  {
   "cell_type": "code",
   "execution_count": null,
   "metadata": {},
   "outputs": [],
   "source": []
  },
  {
   "cell_type": "code",
   "execution_count": null,
   "metadata": {},
   "outputs": [],
   "source": []
  },
  {
   "cell_type": "markdown",
   "metadata": {},
   "source": [
    "Nu skal I så finde magnetiserings overgangen, så vi skal finde hvor magnetiseringen går fra $\\pm$ størrelsen af jeres tilstand til 0."
   ]
  },
  {
   "cell_type": "code",
   "execution_count": null,
   "metadata": {},
   "outputs": [],
   "source": []
  },
  {
   "cell_type": "code",
   "execution_count": null,
   "metadata": {},
   "outputs": [],
   "source": []
  },
  {
   "cell_type": "markdown",
   "metadata": {},
   "source": [
    "Nu skal I så prøve at gøre det med en to dimentionel ising model. Det som forskellen er at hver partikel kobler til alle dem rundt om. "
   ]
  },
  {
   "cell_type": "code",
   "execution_count": null,
   "metadata": {},
   "outputs": [],
   "source": [
    "def initial_state(N):\n",
    "    # Indsæt kode her\n",
    "\n",
    "#@njit\n",
    "def calc_energy(state, J = 1.0):\n",
    "    # Indsæt kode her\n",
    "\n",
    "#@njit\n",
    "def update(state, T = 1.0, J = 1.0):\n",
    "    # Indsæt kode her\n",
    "\n",
    "N = 100\n",
    "state = initial_state(N)\n",
    "energy = calc_energy(state)"
   ]
  },
  {
   "cell_type": "code",
   "execution_count": null,
   "metadata": {},
   "outputs": [],
   "source": [
    "# Animation af 2D ising modellen\n",
    "fig, ax = plt.subplots()\n",
    "img = ax.imshow(state, animated=True)\n",
    "\n",
    "def animate(i):\n",
    "    global state, energy\n",
    "    update(state, T = 0.001)\n",
    "    img.set_array(state)\n",
    "    return img,\n",
    "\n",
    "ani = animation.FuncAnimation(fig, animate, frames=2000,interval=10, blit=True)\n",
    "\n",
    "HTML(ani.to_html5_video())"
   ]
  },
  {
   "cell_type": "code",
   "execution_count": null,
   "metadata": {},
   "outputs": [],
   "source": []
  }
 ],
 "metadata": {
  "kernelspec": {
   "display_name": ".venv",
   "language": "python",
   "name": "python3"
  },
  "language_info": {
   "codemirror_mode": {
    "name": "ipython",
    "version": 3
   },
   "file_extension": ".py",
   "mimetype": "text/x-python",
   "name": "python",
   "nbconvert_exporter": "python",
   "pygments_lexer": "ipython3",
   "version": "3.11.8"
  }
 },
 "nbformat": 4,
 "nbformat_minor": 2
}

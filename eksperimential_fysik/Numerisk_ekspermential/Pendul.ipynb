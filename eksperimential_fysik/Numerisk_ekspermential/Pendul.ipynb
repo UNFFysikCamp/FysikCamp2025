{
 "cells": [
  {
   "cell_type": "markdown",
   "metadata": {},
   "source": [
    "# Penduler\n",
    "\n",
    "I dette eksperiment skal du regne og animere penduller med N led. Opgaven er lavet på forståelse af euler-lagrange ligningen og simulering af dens resultater.\n",
    "\n",
    "## 1-Pendul\n",
    "\n",
    "Til at starte med vil vi prøve med et pendul med 1 led, her ved vi at $$x=\\sin{\\theta}$$ og $$y=\\cos{\\theta}$$ Her skal I prøve at vise at den tidsafledte vil give $$v_x = \\frac{dx}{dt}=\\frac{d\\theta}{dt}\\cos{\\theta}$$ og $$v_y=\\frac{dy}{dt}=-\\frac{d\\theta}{dt}\\sin{\\theta}$$\n",
    "\n",
    "Ud fra det kan vi (du kan prøve at vise det selv) vise at $$E_{Kinetisk} = \\frac{1}{2}mv^2 = \\frac{1}{2}m\\left(\\frac{d\\theta}{dt}\\right)^2$$\n",
    "\n",
    "Vi ved at den potentiale energi er givet ved $$E_{potential} = mgy = mg\\cos{\\theta}$$ Ud fra det kan vi sige at $$L=E_{Kinetisk}-E_{potential}=m\\left(\\frac{1}{2}\\left(\\frac{d\\theta}{dt}\\right)^2-\\cos{\\theta}\\right)$$ Nu kommer vi så til Euler-Lagrange ligningen som siger $$\\frac{d}{dt}\\left(\\frac{dL}{d\\dot{\\theta}}\\right)-\\frac{dL}{d\\theta}=0$$ hvor $\\dot{\\theta}=\\frac{d\\theta}{dt}$ så hvis vi indsætter hvad vi ved og få diffential ligningen $$\\frac{d^2\\theta}{dt^2} = -g\\sin{\\theta}$$\n",
    "\n",
    "Udfra den ligning kan vi bruge Eulers metode til at lave en simulering"
   ]
  },
  {
   "cell_type": "markdown",
   "metadata": {},
   "source": [
    "## Eulers metode\n",
    "\n",
    "Eulers metode er den simpleste måde at løse diffentialligninger numerisk.<br>\n",
    "\n",
    "Hvis vi ser på en differntial ligning som f.eks. $\\frac{d x}{d t}=x$, som fysikere kan vi ''gange over med dx'' så $dx = x dt$, hvis vi laver det lille d lidt større (så det ikke er infinitisimalt lille), så har vi bare små skridt $\\Delta x \\approx x \\Delta t$. så derfor kan vi sige ved tilstrækkelige små $\\Delta t$ er $\\Delta x_{i+1} = x_{i} \\Delta t$. Derfor hvis vi vælger et start punkt kan vi regne hvad det næste punkt er også det næste, og forstætte med det.\n",
    "\n",
    "Så algoritmen vil være\n",
    "\n",
    "1) Vælg et startpunkt, $x_0$, og skridtstørrelse, $\\Delta t$\n",
    "\n",
    "2) Brug formlen $\\Delta x_{i+1} = x_{i} \\Delta t$ til at regne $\\Delta x_{i+1}$\n",
    "\n",
    "3) Brug formlen $x_{i+1} = x_{i} + \\Delta x_{i+1}$ til at regne $x_{i+1}$\n",
    "\n",
    "4) Derefter gå til step 2) og kør indtil du har så mange punkter du vil have\n",
    "\n",
    "Skriv en funktion som laver step 2 og 3 i eulers methode for positionen af et pendul, givet vi kender hastigheden"
   ]
  },
  {
   "cell_type": "code",
   "execution_count": null,
   "metadata": {},
   "outputs": [],
   "source": [
    "import numpy as np\n",
    "import matplotlib.pyplot as plt\n",
    "from IPython.display import HTML\n",
    "from numba import njit\n",
    "from matplotlib import animation\n",
    "g = -9.81"
   ]
  },
  {
   "cell_type": "code",
   "execution_count": null,
   "metadata": {},
   "outputs": [],
   "source": [
    "#@njit\n",
    "def update_pos(theta, v, dt):\n",
    "    # Indsæt kode her"
   ]
  },
  {
   "cell_type": "markdown",
   "metadata": {},
   "source": [
    "Skriv en funktion som opdaterer hastigheden v, udfra diffentialligningen tilsvarende for positionen"
   ]
  },
  {
   "cell_type": "code",
   "execution_count": null,
   "metadata": {},
   "outputs": [],
   "source": [
    "#@njit\n",
    "def update_vel(v, theta, dt):\n",
    "    # Indsæt kode her"
   ]
  },
  {
   "cell_type": "markdown",
   "metadata": {},
   "source": [
    "Nu skal du prøve at lave eulers methode, hvor du opdatere hastigheden og positionen af pendulet, hvor du bruger samme indeks for begge"
   ]
  },
  {
   "cell_type": "code",
   "execution_count": null,
   "metadata": {},
   "outputs": [],
   "source": [
    "#@njit\n",
    "def euler(v0, theta0, dt, tmax):\n",
    "    # Indsæt kode her\n"
   ]
  },
  {
   "cell_type": "markdown",
   "metadata": {},
   "source": [
    "Nu skal vi definere hvor vi vil have pendulet tilat at start f.eks. hastighed på 0 og vinkel på $\\frac{\\pi}{2}$."
   ]
  },
  {
   "cell_type": "code",
   "execution_count": null,
   "metadata": {},
   "outputs": [],
   "source": [
    "# define initial conditions\n",
    "v0 = # Indsæt værdi\n",
    "theta0 = # Indsæt værdi"
   ]
  },
  {
   "cell_type": "markdown",
   "metadata": {},
   "source": [
    "Nu skal I så prøve at plotte x vs y position og tid vs $\\theta$ "
   ]
  },
  {
   "cell_type": "code",
   "execution_count": null,
   "metadata": {},
   "outputs": [],
   "source": []
  },
  {
   "cell_type": "markdown",
   "metadata": {},
   "source": [
    "Nu skal du skrive en funktion for den potentialle energi som er giver ved $E_{pot}=V=y\\cdot g$"
   ]
  },
  {
   "cell_type": "code",
   "execution_count": null,
   "metadata": {},
   "outputs": [],
   "source": [
    "#@njit\n",
    "def potential(theta):\n",
    "    # Indsæt kode her"
   ]
  },
  {
   "cell_type": "markdown",
   "metadata": {},
   "source": [
    "Så skal du skrive en funktion for kinetisk energi givet ved $E_{kin}=T=\\frac{1}{2}(v_x^2+v_y^2)$"
   ]
  },
  {
   "cell_type": "code",
   "execution_count": null,
   "metadata": {},
   "outputs": [],
   "source": [
    "#@njit\n",
    "def kinetic(theta_dot, theta): \n",
    "    # Indsæt kode her\n"
   ]
  },
  {
   "cell_type": "markdown",
   "metadata": {},
   "source": [
    "Nu skal du prøve at plotte den total mekanisk energi vs tid"
   ]
  },
  {
   "cell_type": "code",
   "execution_count": null,
   "metadata": {},
   "outputs": [],
   "source": []
  },
  {
   "cell_type": "markdown",
   "metadata": {},
   "source": [
    "## Runge-kutta 4\n",
    "Nu skal vi prøve en metode hvor vi kan bruge større skrid, og derfor køre lidt hurtigere. Metoden vi bruger er Runge-Kutta 4(RK4), som betyder vi laver fire regninger per skridt. Vi kunne også kalde at eulers methode er Runga-Kutta 1.\n",
    "\n",
    "Så den måde RK4 virker er\n",
    "\n",
    "1) $k_1 = dt \\cdot f(t_{i}, y_{i})$\n",
    "\n",
    "2) $k_2 = dt \\cdot f(t_{i} + dt/2, y_{i} + k_1/2)$\n",
    "\n",
    "3) $k_3 = dt \\cdot f(t_{i} + dt/2, y_{i} + k_2/2)$\n",
    "\n",
    "4) $k_4 = dt \\cdot f(t_{i} + dt, y_{i} + k_3)$\n",
    "\n",
    "5) $\\Delta y_{i+1} = (k_1 + 2k_2 + 2k_3 + k_4)/6$\n",
    "\n",
    "6) $y_{i+1} = y_{i} + \\Delta y_{i+1}$\n",
    "\n",
    "7) Gør det igen fra step 1\n",
    "\n",
    "Det her er givet en diffential ligning som er på formen $\\frac{d y}{d t} = f(t, y)$\n",
    "\n",
    "For penduler er det ikke noget som afhænger af $t$ (positionen ændrer sig i tid, men ikke noget det ændrer systemet, f.eks. er snorlængden konstant i tid) derfor kan I ignorere det.\n",
    "\n",
    "Så prøv at skrive en funktion til det, for pendulerne"
   ]
  },
  {
   "cell_type": "code",
   "execution_count": null,
   "metadata": {},
   "outputs": [],
   "source": []
  },
  {
   "cell_type": "markdown",
   "metadata": {},
   "source": [
    "Prøv så at se på den totale mekanisk energi igen"
   ]
  },
  {
   "cell_type": "code",
   "execution_count": null,
   "metadata": {},
   "outputs": [],
   "source": []
  },
  {
   "cell_type": "code",
   "execution_count": null,
   "metadata": {},
   "outputs": [],
   "source": []
  },
  {
   "cell_type": "markdown",
   "metadata": {},
   "source": [
    "## 2-Pendul\n",
    "\n",
    "For dobbelttpenduller bliver diffentialligningen fra før til et sæt af koblede ligninger. De er givet ved \n",
    "\n",
    "\n",
    "$f_1(\\theta_1,\\theta_2, \\dot{\\theta_1}, \\dot{\\theta_2}) = -\\frac{l_2}{l_1}\\left(\\frac{m_2}{m_1+m_2}\\right)\\dot{\\theta_2^2}\\sin{(\\theta_1-\\theta_2)}-\\frac{g}{l_1}\\sin{(\\theta_1)}$\n",
    "\n",
    "$f_2(\\theta_1,\\theta_2, \\dot{\\theta_1}, \\dot{\\theta_2}) = \\frac{l_1}{l_2}\\dot{\\theta}_1^2\\sin{(\\theta_1-\\theta_2)}-\\frac{g}{l_2}\\sin{(\\theta_1)}$\n",
    "\n",
    "$\\alpha_1(\\theta_1,\\theta_2) = \\frac{l_2}{l_1}\\left(\\frac{m_2}{m_1+m_2}\\right)\\cos{(\\theta_1-\\theta_2)}$\n",
    "\n",
    "$\\alpha_2(\\theta_1,\\theta_2) = \\frac{l_1}{l_2}\\cos{(\\theta_1-\\theta_2)}$\n",
    "\n",
    "$g_1=\\frac{f_1-\\alpha_1f_2}{1-\\alpha_1\\alpha_2}$\n",
    "\n",
    "$g_2=\\frac{-\\alpha_2f_1+f_2}{1-\\alpha_1\\alpha_2}$\n",
    "\n",
    "Hvor diffentialligningerne så bliver\n",
    "\n",
    "$\\frac{d\\theta_1}{dt} = \\omega_1$\n",
    "\n",
    "$\\frac{d\\theta_2}{dt} = \\omega_2$\n",
    "\n",
    "$\\frac{d\\omega_1}{dt} = g_1$\n",
    "\n",
    "$\\frac{d\\omega_2}{dt} = g_2$\n",
    "\n",
    "\n",
    "Her skal I først skrive en funktion som tager et array, med 4 tal ind, som tilsvare $\\theta_1$, $\\theta_2$, $\\omega_1$ og $\\omega_2$, og så giver $\\omega_1$, $\\omega_2$, $g_1$ og $g_2$ (Jeg anbefaler at sætte $l_1=l_2=m_1=m_2=1$)"
   ]
  },
  {
   "cell_type": "code",
   "execution_count": null,
   "metadata": {},
   "outputs": [],
   "source": [
    "#@njit\n",
    "def double_pendul(t, arr):\n",
    "    # Indsæt kode her\n",
    "    return np.array([omega1, omega2, g1, g2])"
   ]
  },
  {
   "cell_type": "markdown",
   "metadata": {},
   "source": [
    "Her skal I så skrive en funktion til at regne Runge-Kutta 4 og Eulers methode"
   ]
  },
  {
   "cell_type": "code",
   "execution_count": null,
   "metadata": {},
   "outputs": [],
   "source": [
    "#@njit\n",
    "def runge_kutta(t, arr, h):\n",
    "    # Indsæt kode her"
   ]
  },
  {
   "cell_type": "code",
   "execution_count": null,
   "metadata": {},
   "outputs": [],
   "source": []
  },
  {
   "cell_type": "markdown",
   "metadata": {},
   "source": [
    "Nu skal I prøve at regne energi for pendulet, her kan I se det som der er to masse som ikke er forbundet i forhold til energien, og plot det. Du kan se på hvordan det ændre sig hvis du bruger RK4 eller Eulers methode."
   ]
  },
  {
   "cell_type": "code",
   "execution_count": null,
   "metadata": {},
   "outputs": [],
   "source": []
  },
  {
   "cell_type": "code",
   "execution_count": null,
   "metadata": {},
   "outputs": [],
   "source": []
  },
  {
   "cell_type": "markdown",
   "metadata": {},
   "source": [
    "Her er der en funktion som I kan bruge til at animere pendulet"
   ]
  },
  {
   "cell_type": "code",
   "execution_count": null,
   "metadata": {},
   "outputs": [],
   "source": [
    "def animate_double_pendulum(t1, t2, l1, l2, x1=2.5, x2=2.5, y1=2.5, y2=2.5):\n",
    "    # Animation\n",
    "    fig, ax = plt.subplots()\n",
    "    ax.set_xlim(-x1, x2)\n",
    "    ax.set_ylim(-y1, y2)\n",
    "    ax.set_aspect('equal')\n",
    "    line, = ax.plot([], [], 'o-', lw=2)\n",
    "\n",
    "    def init():\n",
    "        line.set_data([], [])\n",
    "        return line,\n",
    "\n",
    "    def animate(i):\n",
    "        x = [0, l1*np.sin(t1[i]), l1*np.sin(t1[i]) + l2*np.sin(t2[i])]\n",
    "        y = [0, l1*np.cos(t1[i]), l1*np.cos(t1[i]) + l2*np.cos(t2[i])]\n",
    "        line.set_data(x, y)\n",
    "        return line,\n",
    "\n",
    "    ani = animation.FuncAnimation(fig, animate, frames=1000, init_func=init, interval=20, blit=True)\n",
    "    return ani\n",
    "\n",
    "ani = animate_double_pendulum(t1, t2, l1, l2)"
   ]
  },
  {
   "cell_type": "code",
   "execution_count": null,
   "metadata": {},
   "outputs": [],
   "source": [
    "HTML(ani.to_html5_video())"
   ]
  },
  {
   "cell_type": "code",
   "execution_count": null,
   "metadata": {},
   "outputs": [],
   "source": []
  },
  {
   "cell_type": "code",
   "execution_count": null,
   "metadata": {},
   "outputs": [],
   "source": []
  },
  {
   "cell_type": "code",
   "execution_count": null,
   "metadata": {},
   "outputs": [],
   "source": []
  },
  {
   "cell_type": "code",
   "execution_count": null,
   "metadata": {},
   "outputs": [],
   "source": []
  },
  {
   "cell_type": "code",
   "execution_count": null,
   "metadata": {},
   "outputs": [],
   "source": []
  },
  {
   "cell_type": "code",
   "execution_count": null,
   "metadata": {},
   "outputs": [],
   "source": []
  }
 ],
 "metadata": {
  "kernelspec": {
   "display_name": ".venv",
   "language": "python",
   "name": "python3"
  },
  "language_info": {
   "codemirror_mode": {
    "name": "ipython",
    "version": 3
   },
   "file_extension": ".py",
   "mimetype": "text/x-python",
   "name": "python",
   "nbconvert_exporter": "python",
   "pygments_lexer": "ipython3",
   "version": "3.12.1"
  }
 },
 "nbformat": 4,
 "nbformat_minor": 2
}

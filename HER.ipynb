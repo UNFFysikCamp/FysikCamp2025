{
  "cells": [
    {
      "cell_type": "markdown",
      "metadata": {
        "id": "-RzHZLfc8R12"
      },
      "source": [
        "# Opsætning\n",
        "Når du skal sætte ting op eller hente nye opgave så kør cellen under"
      ]
    },
    {
      "cell_type": "code",
      "execution_count": 1,
      "metadata": {
        "id": "fJ9UYfuf8R15",
        "outputId": "b2d943e8-7ba5-4d58-ce97-2b5042a784f3",
        "colab": {
          "base_uri": "https://localhost:8080/"
        }
      },
      "outputs": [
        {
          "output_type": "stream",
          "name": "stdout",
          "text": [
            "Mounted at /content/drive\n",
            "Cloning into 'FysikCamp2025'...\n",
            "remote: Enumerating objects: 139, done.\u001b[K\n",
            "remote: Counting objects: 100% (139/139), done.\u001b[K\n",
            "remote: Compressing objects: 100% (124/124), done.\u001b[K\n",
            "remote: Total 139 (delta 46), reused 31 (delta 7), pack-reused 0 (from 0)\u001b[K\n",
            "Receiving objects: 100% (139/139), 125.08 MiB | 24.99 MiB/s, done.\n",
            "Resolving deltas: 100% (46/46), done.\n",
            "Du har glemt at gemme i Google Drive. Så tryk CTRL + S for gemme i Google Drive, og kør derefter denne celle igen.\n"
          ]
        }
      ],
      "source": [
        "from google.colab import drive\n",
        "drive.mount('/content/drive')\n",
        "repo = \"FysikCamp2025\"\n",
        "user = \"UNFFysikCamp\"\n",
        "\n",
        "!rm -rf $repo\n",
        "!git clone \"https://github.com/\"$user\"/\"$repo\".git\"\n",
        "\n",
        "!chmod +x $repo\"/bash_script/save_to_drive.sh\"\n",
        "!\"./\"$repo\"/bash_script/save_to_drive.sh\" $repo"
      ]
    }
  ],
  "metadata": {
    "language_info": {
      "name": "python"
    },
    "colab": {
      "provenance": []
    },
    "kernelspec": {
      "name": "python3",
      "display_name": "Python 3"
    }
  },
  "nbformat": 4,
  "nbformat_minor": 0
}
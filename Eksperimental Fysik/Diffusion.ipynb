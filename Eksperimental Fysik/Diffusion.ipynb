{
 "cells": [
  {
   "cell_type": "code",
   "execution_count": null,
   "id": "a51bed5a",
   "metadata": {},
   "outputs": [],
   "source": [
    "import numpy as np\n",
    "import matplotlib.pyplot as plt"
   ]
  },
  {
   "cell_type": "markdown",
   "id": "edec0a5f",
   "metadata": {},
   "source": [
    "# Diffusion"
   ]
  },
  {
   "cell_type": "markdown",
   "id": "8351ce3c",
   "metadata": {},
   "source": [
    "Transport af enzymer, proteiner, mRNA og signalstoffer er essentiel for funktionen af vores celler. Men hvordan bevæger disse stoffer sig fra punkt A til punkt B? En af de mest almindelig og energi effektive er passiv diffusion. Her udnytter cellen det faktum at partikler kan blive skubbet rundt andre partikler, også kaldet \"Brownmian motion\". Brownian motion er bevægelsen der er forårsaget af termiske fluktuationer der gør at mindre partikler skubber større partikler umiddelbart tilfældigt. Denne type transport er essentiel for specielt proteiner. Vi bygger en simpel model for diffusion først i en dimension og dernæst to dimensioner."
   ]
  },
  {
   "cell_type": "markdown",
   "id": "9cf979b1",
   "metadata": {},
   "source": [
    "## Tilfældige tal"
   ]
  },
  {
   "cell_type": "markdown",
   "id": "99601903",
   "metadata": {},
   "source": [
    "Før vi kan simulere diffusion, så skal vi kunne skabe et tilfældigt tal. Her kan vi benytte $\\verb|numpy.random|$ modulet, til at vælge mellem 2 forskellige tal (vi kan også vælge flere tal). Prøv at gøre kodecellen under, virker det tilfældigt?"
   ]
  },
  {
   "cell_type": "code",
   "execution_count": null,
   "id": "c7feb792",
   "metadata": {},
   "outputs": [],
   "source": [
    "import numpy.random as random\n",
    "r = random.choice([-1,1], size = 1) # Vælger tilfældigt mellem -1 og 1, 1 gang.\n",
    "print(r)"
   ]
  },
  {
   "cell_type": "markdown",
   "id": "e04c6c29",
   "metadata": {},
   "source": [
    "For at simulere diffusion, så vil vi starte med at bygge en såkaldt legetøjs model eller en såkaldt minimal model, der er den simpleste model vi kan bruge til at simulere protein transport ved diffusion.\n",
    "$\\newline$\n",
    "I vores simple model, der starter vi i en dimension, hvor vi enten kan tage et skridt til højre (+1) eller venstre (-1). For nu siger vi at der går lige lang tid mellem hvert skridt ($\\tau$). Skriv nu noget kode der gør følgende:\n",
    "$\\newline$\n",
    "\n",
    "- Lav en variable $\\verb|x|$ der er lig med 0. Dette repræsentere vi starter vores protein starter ved origo af vores koordinat system.\n",
    "\n",
    "- Brug et $\\verb|for loop|$ til at lægge enten -1 eller 1 til, med $\\verb|random.choice|$. Gem den ny position i $\\verb|x_liste|$. Gør dette 100, 1000 og 10.000.\n",
    "\n",
    "- Plot $\\verb|x_liste|$, hvad sker der hvis du kører simulation flere gange?\n",
    "\n",
    "\n"
   ]
  },
  {
   "cell_type": "code",
   "execution_count": null,
   "id": "254bfc4b",
   "metadata": {},
   "outputs": [],
   "source": [
    "x =\n",
    "x_liste = [] # Liste til at gemme x-værdier\n",
    "x_liste.append(x)\n",
    "# Indsæt din egen kode:)\n",
    "\n",
    "plt.plot(x_liste)"
   ]
  },
  {
   "cell_type": "markdown",
   "id": "12cbd511",
   "metadata": {},
   "source": [
    "Benyt et ekstra for loop til at lave 100+ simulationer, og plot dem oveni i hinanden. Ligner det der er en tendens? Giv evt. $\\verb|plt.plot|$ et gennemsigtigheds ($\\verb|alpha|$) og farve argumentet ($\\verb|color|$)\n"
   ]
  },
  {
   "cell_type": "markdown",
   "id": "b042ded8",
   "metadata": {},
   "source": [
    "## Diffusionsfordelingen"
   ]
  },
  {
   "cell_type": "markdown",
   "id": "e0dbaf38",
   "metadata": {},
   "source": [
    "Når du kører en enkelt simulation, så ligner det umiddelbart der blot sker tilfældigheder, men når vi kører flere på samme tid, så tegner der sig pludselig en systematik. Men hvordan kan det være at en stribe af umiddelbart tilfældige hændelser resultere i en systematik eller et mønster? Her er det nyttigt at tale om sandsynlighedsfordelinger. Når vi har et tilfældigt \"event\", så er det tilfældigt på den måde vi ikke kan være sikre på hvad udfaldet er, men alt efter hvilken fordeling vi arbejder med, så kan vi være mere sikre på nogle udfald. Eksempelvis i Lotto, så er det meget usandsynligt at vinde, så vi kan være meget sikre på at tabe hvis vi køber en Lotto-koupon. På samme måde er der nogle positioner der er mere sandsynlige en andre i vores simulation! For at undersøge hvilken fordeling lad os kun kigge på slut positionerne af vores proteiner.\n",
    "- Simulér 10.000 gange med 1000 skridt vores protein transport, og gem kun slut positionerne! Plot dem derefter i et histogram.\n",
    "- Hvilken fordeling ligner det? (se evt. statistiknoten)"
   ]
  },
  {
   "cell_type": "code",
   "execution_count": null,
   "id": "4ac87f0c",
   "metadata": {},
   "outputs": [],
   "source": [
    "positioner = np.zeros(10000)\n",
    "# Indsæt din egen kode:)\n",
    "\n",
    "counts, edges, _ = plt.hist(positioner, bins=25, density=True, color='blue', alpha=0.5)\n",
    "center = 0.5 * (edges[1:] + edges[:-1])\n"
   ]
  },
  {
   "cell_type": "markdown",
   "id": "47d44f2e",
   "metadata": {},
   "source": [
    "Via den central grænse værdi sætning, så vil en lang række tilfældige hændelser næsten altid blive til en normal fordeling, uanset hvordan de tilfældige hændelser sker. I vores tilfælde så burde gennemsnittet af slut positionerne være 0, da vi gennemsnitlig træder lige så meget til højre som til venstre. Spredningen derimod vil være $\\sqrt{n}$, hvor $n$ er antallet af skridt vi tager.\n",
    "\n",
    "- Prøv at beregne gennemsnit og spredning af $\\verb|positioner|$ listen, passer det med teorien?\n",
    "- $\\textbf{Bonus:}$ Fit en normal fordeling og sammenlign med data\n",
    "- $\\textbf{Bonus:}$ Hvis du kender spredningen på det enkelte skridt så giver central grænse værdi sætning en formel for spredningen for $n$ skridt sin $\\sigma_n = \\sqrt{n\\sigma_1}$. Prøv evt. at give partiklen muligheden for at tage 0 skridt eller 2 skridt."
   ]
  },
  {
   "cell_type": "markdown",
   "id": "613bf713",
   "metadata": {},
   "source": [
    "## Diffusion i to dimensioner"
   ]
  },
  {
   "cell_type": "markdown",
   "id": "6dbc4b06",
   "metadata": {},
   "source": [
    "Nu har vi kigget på kun en dimension, prøv nu at simulere i to dimensioner. \n",
    "\n",
    "- Simulér først en enkelt partikel og kig på den bevægelse.\n",
    "- Simulér nu flere partikler, og plot kun slut positionen. $\\textit{Hint: Brug eventuelt et scatter plot og brug \\verb|alpha| argumentet for at gøre dem gennemsigtige}$"
   ]
  },
  {
   "cell_type": "code",
   "execution_count": null,
   "id": "33a3fdcd",
   "metadata": {},
   "outputs": [],
   "source": [
    "# Indsæt din egen kode:)"
   ]
  },
  {
   "cell_type": "markdown",
   "id": "6255b735",
   "metadata": {},
   "source": [
    "## Diffusion i tre dimensioner"
   ]
  },
  {
   "cell_type": "markdown",
   "id": "9a2c49f4",
   "metadata": {},
   "source": [
    "Nu er vi klar til at kigge på tre dimensioner, som er den verden vi lever i. Det er svært at visualisere tre dimensioner, så i stedet vil vi undersøge hvor lang tid det tager for en protein at finde et specifikt sted i cellen. Dette er også i praksis hvad formålet med diffusion transporten er: at få et protein fra punkt A til punkt B. Skriv derfor et stykke kode der:\n",
    "\n",
    "- Simulere diffusion i tre dimensioner.\n",
    "- Stopper simulationen når partiklen når punkt (3,0,0). Gem antallet af skridt i stedet for slut positionen.\n",
    "- Gør det for 100+ simulationer. Hvilken fordeling har vi med at gøre?\n",
    "- $\\textbf{Bonus:}$ Hvordan vokser gennemsnittet af antallet af tidsskridt, når du ændre slutpositionen? (start med blot at ændre x koordinatet)\n"
   ]
  },
  {
   "cell_type": "code",
   "execution_count": null,
   "id": "5dae82a4",
   "metadata": {},
   "outputs": [],
   "source": [
    "# Indsæt din egen kode:)"
   ]
  },
  {
   "cell_type": "markdown",
   "id": "f059375f",
   "metadata": {},
   "source": [
    "Faktisk er diffusion i en dimension også relevant, da proteiner også diffundere langs DNA strengen for at finde det rigtige sted at binde sig.\n",
    "- Sammenlign derfor tiden det tager at finde et punkt der er lige langt fra origo i en dimension og tre dimensioner. \n",
    "- Hvilken metode er mest effektivt"
   ]
  }
 ],
 "metadata": {
  "kernelspec": {
   "display_name": "base",
   "language": "python",
   "name": "python3"
  },
  "language_info": {
   "codemirror_mode": {
    "name": "ipython",
    "version": 3
   },
   "file_extension": ".py",
   "mimetype": "text/x-python",
   "name": "python",
   "nbconvert_exporter": "python",
   "pygments_lexer": "ipython3",
   "version": "3.11.7"
  }
 },
 "nbformat": 4,
 "nbformat_minor": 5
}

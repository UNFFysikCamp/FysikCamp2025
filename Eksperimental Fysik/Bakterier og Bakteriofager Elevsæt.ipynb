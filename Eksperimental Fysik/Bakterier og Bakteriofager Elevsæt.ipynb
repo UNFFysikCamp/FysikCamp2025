{
 "cells": [
  {
   "cell_type": "markdown",
   "id": "3d2df15f",
   "metadata": {
    "id": "3d2df15f"
   },
   "source": [
    "Bakterier og Bakteriofager"
   ]
  },
  {
   "cell_type": "markdown",
   "id": "66174ed1",
   "metadata": {
    "id": "66174ed1"
   },
   "source": [
    "Blandt de mest hyppige organismer på Jorden er bakterierne og det er der god grund til: Bakterier består af en meget mangfoldig gruppe af prokaryoter, hvilket gør at de ofte er tilpassede til at eksistere på næsten alle overflader og miljøer på vores planet. De formerer sig dog ikke uhæmmet. En anden organisme som er ekstrem talstærk og nok bakteriens værste fjende er bakteriofagen, en virusart som udelukkende reproducerer indeni bakterier. Dette gør de ved at hægte sig til bakteriens membran og injicere deres egen DNA, hvilket gør, at de overtager bakteriens normale proteinproduktion og tvinger den til at sammensættte så mange bakteriofager indeni sig selv, at den i sidste ende eksploderer og sender mange hundrede nye bakteriofager ud i dens omgivelser, så cyklussen fortsætter. En meget brutal, men yderst mikroskopisk, scene. Man  Vi vil i dette forsøg prøve at simulere denne process for en enkel bakterie og bakteriofag og udforske forskellige algoritmer, som kan give drastisk forskelllige fortolkninger og resultater af bakteriofagens reproduktionsproces."
   ]
  },
  {
   "cell_type": "markdown",
   "id": "f53345dd",
   "metadata": {
    "id": "f53345dd"
   },
   "source": [
    "Før vi skriver kode er det en god ide at tale om hvilke ligninger og parametre vi skal bruge for at beskrive systemet. En måde at fortolke reproduktionsprocessen er ved at associere bakteriens fremskridt mod at eksplodere (lysere), med en variabel $I$. Når denne variabel når en tærskelværdi $\\lambda$ lyserer bakterien og dermed slutter vores simulering. Variablen $I$ stiger dermed med raten $\\omega$ indtil $I = \\lambda$. Det tager i gennemsnittet 30 minutter for en bakterie at lysere, når den først er blevet inficeret af en Bakteriofag. Derfor sætter vi parameterne til $\\lambda = 30$ og $\\omega = \\frac{1}{\\text{min}}$. Differentialligningen for $I$ tager formen:\n",
    "\n",
    "\\begin{equation}\n",
    "    \\frac{dI}{dt} = \\omega \\hspace{1cm} (I_0 = 0; I < \\lambda)\n",
    "\\end{equation}\n",
    "\n",
    "Du burde nu kunne sammensætte en Euler-algoritme, der kører indtil bakterien er død. Du kan vælge størrelsen af tidsskridtet $dt$ frit, men husk at gemme de relevante tids- og $I$-værdier i listerne nedenfor."
   ]
  },
  {
   "cell_type": "code",
   "execution_count": null,
   "id": "54845bea-177a-44b8-9d88-d3d4e4294278",
   "metadata": {
    "colab": {
     "base_uri": "https://localhost:8080/",
     "height": 447
    },
    "executionInfo": {
     "elapsed": 304,
     "status": "ok",
     "timestamp": 1753146112208,
     "user": {
      "displayName": "Benjamin Siddique",
      "userId": "08567765163800516166"
     },
     "user_tz": -480
    },
    "id": "5b30db8c",
    "outputId": "4242c767-2a87-49db-e559-e08679064513",
    "scrolled": true
   },
   "outputs": [],
   "source": [
    "#Husk at importere de relevante pakker\n",
    "import numpy as np\n",
    "import matplotlib.pyplot as plt\n",
    "\n",
    "#Simulering\n",
    "w = 1                        #Reproduktionsraten\n",
    "dt =                         #Tidsskridt\n",
    "Lambda = 30                  #Tærskelsværdien\n",
    "\n",
    "I = np.array([0])            #En liste, som indeholder infektionsniveauet af bakterien.\n",
    "t = np.array([0])            #En liste vi gemmer tidsdata i\n",
    "\n",
    "for i in range():            #Skriv din algoritme i denne for-løkke\n",
    "    if():                    #Bestem hvornår algoritmen skal stoppe\n",
    "        break                #Bryd for-løkken"
   ]
  },
  {
   "cell_type": "markdown",
   "id": "70c6ab6c-0fb5-4a3c-b10a-e1dd9b54ceee",
   "metadata": {},
   "source": [
    "Lav derefter et punktplot, med tiden på første-aksen, så du kan se hvilken form sammenhængen har. Du kan måske allerede gennemskue det ved at kigge på differentialligningen for $I$ :-)."
   ]
  },
  {
   "cell_type": "code",
   "execution_count": null,
   "id": "468e2272-f2ff-4d75-9600-7401a918bf43",
   "metadata": {},
   "outputs": [],
   "source": [
    "plt.plot()\n",
    "\n",
    "#Valgfrie funktioner for at pimpe dit plot op ;)\n",
    "#plt.grid()\n",
    "#plt.xlim(0, 32)\n",
    "#plt.ylim(0, 32)\n",
    "#plt.title('Reproduktionsfremskridt over tid')\n",
    "#plt.xlabel('tid')\n",
    "#plt.ylabel('Reproduktionsfremskridt')"
   ]
  },
  {
   "cell_type": "markdown",
   "id": "9d8d1088",
   "metadata": {
    "id": "9d8d1088"
   },
   "source": [
    "Du skulle gerne kunne se en lineær sammenhæng mellem $I$ og tiden og du kan sikkert allerede aflæse hældningen. Prøv alligevel at fitte en lineær funktion ved brug af kommandoen curve_fit og plot linjen ovenpå punkterne. Bekræft at hældningsparameteren stemmer overens med din observation."
   ]
  },
  {
   "cell_type": "code",
   "execution_count": null,
   "id": "949f1213",
   "metadata": {
    "colab": {
     "base_uri": "https://localhost:8080/",
     "height": 447
    },
    "executionInfo": {
     "elapsed": 1586,
     "status": "ok",
     "timestamp": 1753146117178,
     "user": {
      "displayName": "Benjamin Siddique",
      "userId": "08567765163800516166"
     },
     "user_tz": -480
    },
    "id": "949f1213",
    "outputId": "a52300c2-5d2c-49f3-81eb-69ab9c780df2"
   },
   "outputs": [],
   "source": [
    "from scipy.optimize import curve_fit\n",
    "\n",
    "def lin(x, a):\n",
    "    y =                                 #Definer din lineære funktion her\n",
    "    return y\n",
    "\n",
    "\n",
    "hældningsparameter = curve_fit()        #Giv curve_fit() de passende argumenter\n",
    "\n",
    "x = np.linspace(0, 100, 1000)           #x-aksen af den lineære funktion\n",
    "\n",
    "plt.plot()                              #Genskab punktplottet fra det tidligere afsnit\n",
    "plt.plot()                              #Plot den lineære funktion her"
   ]
  },
  {
   "cell_type": "markdown",
   "id": "VaBIoTwUQoW5",
   "metadata": {
    "id": "VaBIoTwUQoW5"
   },
   "source": [
    "Så har du simuleret en bakteriofags reproduktionsproces og fundet en analytisk model der kan beskrive den! Meeeeeeeeeen du er måske ikke helt tilfreds med resultatet. Det er sjældent at verden er så ligefrem og deterministisk som vores simulation antager. Selvom bakteriofager i gennemsnittet tager 30 minutter om at fuldføre deres reproduktionsproces, betyder det ikke at det altid er sådan: Nogle gange tager det 28 minutter, andre gange kan det tage 35 minutter og det kan der være alle mulige grunde til: Temperaturforskelle, variation i DNA'en af den enkelte bakterie eller bakteriofag, sundhedskvaliteten af de to organismer osv. Der er altså ikke tale om en fast tabelværdi, men hellere en fordeling af forskellige værdier for $\\lambda$. Det betyder at $\\lambda$ varierer, men at nogle værdier stadig er mere sandsynlige end andre. Der vil eksempelvis være mange flere reproduktionscyklusser der varer 30 minutter istedet for 2 minutter. Mange ting i den rigtige verden er associerede med en sandsynlighedsfordeling istedet for en fast værdi såsom vægten af æbler i naturen, højden af elever i en skoleklasse eller tiden det tager for dig at få din mad på en restaurant. Umiddelbart er det rimeligt besværligt at tage højde for alle de mulige faktorer, der kan påvirke en sandsynlighedsfordeling, men heldigvis har det ikke stoppet forskere i at forsøge alligevel. En populær måde at fortolke ordelingen af $\\lambda$-værdierne er blot at antage, at hvert enkelt skridt i reproduktionsprocessen sker helt tilfældigt. Rationalen er at de mange varierende faktorer i hver enkel infektionsprocess akkumulerer til sand tilfældighed, hvis man blot kigger på en stor nok stikprøve. Ved at antage tilfældighed, kan vi bruge den diskrete 'Mester-ligning', der er forbundet med tilfældige og stokastiske processer i Fysik.\n",
    "\n",
    "\\begin{equation}\n",
    "    \\frac{\\partial}{\\partial t} p_i (t) = \\sum_{j \\neq i} \\omega_{ji} p_j (t) - \\omega_{ij} p_i (t)\n",
    "\\end{equation}\n",
    "\n",
    "Mester-ligningen er faktisk virkeligt ligefrem at fortolke: Hvert skridt i reproduktionsprocesses er nu tildelt en sandsynlighedsfordeling for reproduktionsstadiet $i$. Med andre ord så fortæller $p_i (t)$ os for hvilke tidspunkter $t$ det er mest sandsynligt a $I$ er lig med tallet $i$. Eksempelvis så repræsenterer $p_2 (t)$ de tidspunkter, hvor det er mest sandsynligt at $I = 2$. $p_2 (t)$ vil være centreret omkring de lavere tider, da det er mere sandsynligt at træde ind i dette tidlige stadie snarere frem for senere. Derimod vil en sandsynlighedsfordeling som $p_{30} (t)$ være fordelt omkring de senere tider, da det generelt tager længere tid at nå det sidste stadie i bakteriofagens reproduktionsproces.\n",
    "\n",
    "\n",
    "Bonus: Kan du gætte middelværdien af $p_{30} (t)$?\n",
    "\n",
    "\n",
    "\n",
    "\n",
    "Det spørgsmål som Mester-ligningen adresserer er hvordan disse sandsynlighedsfordelinger $p_i (t)$ udvikler sig med tiden. Symbolet $\\omega_{ji}$ repræsenterer raten for overgangen $j \\rightarrow i$. Så det første led $\\omega_{ji} p_j (t)$ repræsenter den gennemsnitlige sandsynlighed for at 'hoppe' ind i stadiet $j$ fra stadiet $i$, mens det andet led $\\omega_{ij} p_i (t)$ giver den gennemsnitlige sandsynlighed for at forlade stadiet $i$ og træde ind i $j$. Summeringssymbolet $\\sum$ sørger blot for at tage højde for alle mulige værdier af $j$.\n",
    "\n",
    "\n",
    "Bonus: Kan du skrive Mester-ligningen for vores system hvis du ved $\\omega_{ij} = \\omega_{ji} = \\omega$ og $j$ kun antager værdien $i-1$ (Det er det samme som at sige at man kun kan træde ind i stadiet $i$ ved allerede at være på $i - 1$)?\n",
    "\n",
    "Bonus: Mester-ligningen er ens for alle stadier undtagen for ved $p_1$ og $p_{30}$. Hvordan ser den ud her på grænserne?\n",
    "\n",
    "Brugbarheden af Mester-ligningen er bedst værdsat ved at vise hvordan den fører til udledningen af Gillespie-algoritmen, som er en computeralgoritme, der kan simulere tilfældige processer meget hurtigere end Eulers metode. Kernen i Gillespie-algoritmen er at den springer redundante tidsskridt, hvor der ikke sker noget, over. Vi starter med at antage at systemet befinder sig i stadiet $i$ til tiden $\\tau = 0$ og at vi forlader $i$ til tidspunktet $T$. Vi definerer således overlevelsessandsynligheden som:\n",
    "\n",
    "\\begin{equation}\n",
    "    S_i (\\tau) = p_i (\\tau < T)\n",
    "\\end{equation}\n",
    "\n",
    "Altså sandsynligheden for at forblive i stadiet $i$ som funktion af $\\tau$, tiden efter man er trådt ind i $i$. Vi kan sætte denne overlevelsessandsynlighed i Mester-ligningen og få:\n",
    "\n",
    "\\begin{equation}\n",
    "    \\frac{\\partial}{\\partial \\tau} S_i (\\tau) = \\sum_{j \\neq i} \\omega_{ji} S_j (\\tau) - \\omega_{ij} S_i (\\tau)\n",
    "\\end{equation}\n",
    "\n",
    "Man kan tydeligvis ikke forlade $i$, sålænge at $\\tau < T$ og derfor må $\\omega_{ji} = 0$ for overlevelsessandsynligheden. Vi får således en differentialligning, som de fleste af jer bør kunne løse uden problemer:\n",
    "\n",
    "\\begin{equation}\n",
    "    \\frac{\\partial}{\\partial \\tau} S_i (\\tau) = - \\sum_{j \\neq i} \\omega_{ij} S_i (\\tau) = - \\Omega_i S_i (\\tau)\n",
    "\\end{equation}\n",
    "\n",
    "\\begin{equation}\n",
    "    S_i (\\tau) = e^{-\\Omega_i \\tau}\n",
    "\\end{equation}\n",
    "\n",
    "Hvor $\\Omega_i = \\sum_{j \\neq i} \\omega_{ij}$. Således er overlevessandssynligheden en aftagende eksponentiel fordeling. Det bør stemme overens med din intuition, da desto større $\\tau$ bliver, desto højere er sandsynligheden for at forlade $i$ og desto mindre bliver $S_i (t)$. Sandsynligheden for at forlade $i$ i intervallet $[\\tau, \\tau + d\\tau]$ er givet ved den negative afledte af overlevelsessandsynligheden:\n",
    "\n",
    "\\begin{equation}\n",
    "    -\\frac{d}{d\\tau}S_i(\\tau)d\\tau = \\Omega_i e^{-\\Omega_i\\tau}d\\tau\n",
    "\\end{equation}\n",
    "\n",
    "Sandsynligheden for at forlade $i$ når der går uendeligt lang tid er 100%. Det kan vi repræsentere igennem en integration for alle mulige værdier af $\\tau$:\n",
    "\n",
    "\\begin{equation}\n",
    "    1 = \\int^{\\infty}_0 \\Omega_i e^{-\\Omega_i\\tau} d\\tau\n",
    "\\end{equation}\n",
    "\n",
    "Det er et generelt træk blandt sandsynlighedsfordelinger at de gier 1, hvis man integrerer over alle værdier for deres variabler. Vi introducerer nu en uniform fordelt variabel $\\xi_1$ i intervallet $[0, 1]$ og udfører en klassisk substitution:\n",
    "\n",
    "\\begin{equation}\n",
    "    1 = \\int^{\\infty}_0 \\Omega_i e^{-\\Omega_i\\tau} d\\tau = \\int^1_0 \\Omega_i e^{-\\Omega_i\\tau} \\left|\\frac{d\\tau}{d\\xi_1}\\right|d\\xi_1\n",
    "\\end{equation}\n",
    "\n",
    "Læg nu mærke til at integranden i det sidste led svarer til sandsynlighedsfordelingen af $\\xi_1$, da den er normaliseret til 1 over det relevante interval. Husk at $\\xi_1$ er en uniform fordelt variabel og derfor kan vi skrive:\n",
    "\n",
    "\\begin{equation}\n",
    "\\Omega_i e^{-\\Omega_i\\tau} \\frac{d\\tau}{d\\xi_1} = 1\n",
    "\\end{equation}\n",
    "\n",
    "\\begin{equation}\n",
    "\\frac{d\\xi_1}{d\\tau} = \\Omega_i e^{-\\Omega_i\\tau}\n",
    "\\end{equation}\n",
    "\n",
    "\\begin{equation}\n",
    "\\xi_1(\\tau) = \\int_0^\\tau \\Omega_i e^{\\Omega_i\\tau'}d\\tau' = 1 - e^{-\\Omega_i\\tau}\n",
    "\\end{equation}\n",
    "\n",
    "\\begin{equation}\n",
    "\\tau(\\xi_1) = -\\frac{1}{\\Omega_i}\\ln(1-\\xi_1)\n",
    "\\end{equation}\n",
    "\n",
    "\\begin{equation}\n",
    "    \\tau(\\xi_1) = -\\frac{1}{\\Omega_i}\\ln(\\xi_1)\n",
    "\\end{equation}\n",
    "\n",
    "Den sidste ligning følger fra at $\\xi_1$ kun varierer fra 0 til 1 og derfor er de to sidste ligninger det samme. Vi sparer blot at udføre en ekstra udregning, som vi ikke har brug for. Vi kan nu sammensætte Gillespie-algoritmen:\n",
    "\n",
    "- Træk to tilfældige tal $\\xi_1, \\xi_2 \\in [0,1]$\n",
    "- Beregn tiden til den næste overgang $\\tau(\\xi_1) = -\\frac{1}{\\Omega_i} \\ln(\\xi_1)$\n",
    "- Bestem det mindste tal $j$, som opfylder $\\sum\\limits_{k=1}^j \\omega_{ki} \\geq \\xi_2\\Omega_i$\n",
    "- Opdater $i\\rightarrow j$; Spol tiden fremad $t \\rightarrow t +\\tau(\\xi_1).$\n",
    "- Gentag\n",
    "\n",
    "Det er den generelle algoritme, men vores system er så simpelt at der er nogle ting, som vi kan udlade. Din algoritme kan f.eks. tage formen:\n",
    "\n",
    "- Træk et tilfældigt tal $\\xi_1 \\in [0,1]$\n",
    "- Beregn tiden til den næste overgang $\\tau(\\xi_1) = -\\frac{1}{\\Omega_i} \\ln(\\xi_1)$\n",
    "- Opdater $i \\rightarrow i + 1$; Spol tiden fremad $t \\rightarrow t +\\tau(\\xi_1).$\n",
    "- Gentag\n",
    "\n",
    "Læg mærke til hvad der bliver gjort her i modsætning til Eulers metode. Med Eulers metode ville vi vælge størrelsen af tidsskridtet og blot gange det med raten at der 'sker noget'. Nu kan vi bestemme det næste tidspunkt der sker noget ved brug af $\\tau (\\xi_1)$, så vi springer redundante tidsskridt, hvor der ikke sker noget over. Fosøg nu at oversætte den ovenstående pseudokode til rigtig kode. Du skal i nedenstående celle kun færdiggøre algoritmen i reproduktion()-funktionen, plottet er allerede forberedt."
   ]
  },
  {
   "cell_type": "code",
   "execution_count": null,
   "id": "c69723c4",
   "metadata": {
    "colab": {
     "base_uri": "https://localhost:8080/",
     "height": 751
    },
    "executionInfo": {
     "elapsed": 4581,
     "status": "ok",
     "timestamp": 1753146146826,
     "user": {
      "displayName": "Benjamin Siddique",
      "userId": "08567765163800516166"
     },
     "user_tz": -480
    },
    "id": "c69723c4",
    "outputId": "60d7c2dc-3f79-48dd-867d-23a8d70877fc"
   },
   "outputs": [],
   "source": [
    "def reproduktion():\n",
    "    #Initial-værdier\n",
    "    I = np.array([0])\n",
    "    t = np.array([0])\n",
    "\n",
    "    while :                             #Bestem hvor længe løkken skal køre\n",
    "        x1 = np.random.uniform(0,1)     #Træk et tilfældigt tal i intervallet [0, 1]\n",
    "\n",
    "\n",
    "        tid = tid + \n",
    "        Fremskridt = Fremskridt +\n",
    "\n",
    "        #Husk at gemme værdierne i lister\n",
    "        t =\n",
    "        I = \n",
    "    \n",
    "    return t, I\n",
    "\n",
    "Lambda = 30\n",
    "N =  1000                                #Antallet af simulationer der skal køres. Du kan ændre denne parameter frit.\n",
    "\n",
    "plt.figure(figsize = (20,12))\n",
    "plt.title('Reproduktionsfremskridt over tid')\n",
    "plt.grid()\n",
    "\n",
    "tmax = 0\n",
    "t_slut = []\n",
    "for i in range(N):\n",
    "    t, I = reproduktion()               #Husk at give de rigtige argumenter i funktionen\n",
    "\n",
    "    plt.step(t, I, where = 'post')\n",
    "    \n",
    "    #Gem sluttiderne\n",
    "    t_slut.append(max(t))\n",
    "    if max(t) > tmax:\n",
    "        tmax = max(t)\n",
    "\n",
    "\n",
    "plt.plot(np.arange(0,round(tmax + tmax/5)), Lambda * np.ones(round(tmax + tmax/5)), color = 'red', label = 'Threshhold')\n",
    "plt.hist(t_slut, bins = 20, weights = np.full(N, Lambda/N), bottom = Lambda)\n",
    "plt.xlim(0,tmax + tmax/15)\n",
    "plt.legend()"
   ]
  },
  {
   "cell_type": "markdown",
   "id": "uYPyIVBkehKM",
   "metadata": {
    "id": "uYPyIVBkehKM"
   },
   "source": [
    "For den simple process som vi simulerer her, kender man faktisk den analytiske fordeling af stop-tiderne. De følger en Erlang-fordeling på formen:\n",
    "\n",
    "\\begin{equation}\n",
    "      P(\\tau, \\lambda, \\omega) = \\frac{\\omega^\\lambda \\tau^{\\lambda - 1} e^{-\\omega \\tau}}{(\\lambda-1)!}\n",
    "\\end{equation}\n",
    "\n",
    "Definer funktionen nedenfor og plot den oveni histogrammet og vurder om formen passer."
   ]
  },
  {
   "cell_type": "code",
   "execution_count": null,
   "id": "8b319529",
   "metadata": {
    "colab": {
     "base_uri": "https://localhost:8080/",
     "height": 447
    },
    "executionInfo": {
     "elapsed": 596,
     "status": "ok",
     "timestamp": 1753146150632,
     "user": {
      "displayName": "Benjamin Siddique",
      "userId": "08567765163800516166"
     },
     "user_tz": -480
    },
    "id": "8b319529",
    "outputId": "c4afa76e-89e6-4165-edf1-b68f0fae2c7f"
   },
   "outputs": [],
   "source": [
    "import math as m\n",
    "\n",
    "def erlang(tau, L, w):\n",
    "    y = \n",
    "    return y\n",
    "\n",
    "plt.hist(t_slut, density = True, bins = 30)\n",
    "plt.plot()"
   ]
  }
 ],
 "metadata": {
  "colab": {
   "provenance": []
  },
  "kernelspec": {
   "display_name": "Python 3",
   "language": "python",
   "name": "python3"
  },
  "language_info": {
   "codemirror_mode": {
    "name": "ipython",
    "version": 3
   },
   "file_extension": ".py",
   "mimetype": "text/x-python",
   "name": "python",
   "nbconvert_exporter": "python",
   "pygments_lexer": "ipython3",
   "version": "3.11.9"
  }
 },
 "nbformat": 4,
 "nbformat_minor": 5
}

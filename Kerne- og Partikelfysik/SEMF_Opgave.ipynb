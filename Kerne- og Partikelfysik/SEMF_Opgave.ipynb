{
 "cells": [
  {
   "cell_type": "code",
   "execution_count": null,
   "id": "471881b1",
   "metadata": {},
   "outputs": [],
   "source": [
    "import numpy as np\n",
    "import matplotlib.pyplot as plt\n",
    "\n",
    "''' \n",
    "Denne python kode beregner bindingsenergien for nuklider baseret på SEMF. \n",
    "Men for at kunne udregne bindingsenergien skal vi finde ud af hvilke atomer som er mest stabile. \n",
    "\n",
    "Jeg har lavet lidt forhåndsarbejde, hvor jeg har skrevet SEMF ind som kode. \n",
    "\n",
    "Det sidste jeg bare mangler er at lave en funktion som kan beregne, hvilke nuklider der er mest stabile. \n",
    "Altså jeg vil finde det Z fra et givet A, som giver den største bindingsenergi.\n",
    "\n",
    "Brug M(Z,A) fra bogen, hvor du skal finde de led som afhænger af z. \n",
    "\n",
    "HINT: Du skal måske differentiere lidt ;) \n",
    "\n",
    "\n",
    "\n",
    "'''\n",
    "\n",
    "#konstanter/koefficienter\n",
    "a_v = 15.8 \n",
    "a_s = 18.3  \n",
    "a_c = 0.714\n",
    "a_a = 23.2\n",
    "a_p = 12\n",
    "\n",
    "def pairing_term(A, Z):\n",
    "    N = A - Z\n",
    "    if (Z % 2) ^ (N % 2):\n",
    "        return 0\n",
    "    elif Z % 2 == 0 and N % 2 == 0:\n",
    "        return -a_p / A**0.5  \n",
    "    else:\n",
    "        return +a_p / A**0.5  \n",
    "\n",
    "def binding_energy(A, Z):\n",
    "    volume = a_v * A\n",
    "    surface = a_s * A**(2/3)\n",
    "    coulomb = a_c * Z**2 / A**(1/3)\n",
    "    asymmetry = a_a * (A - 2*Z)**2 / A\n",
    "    pairing = pairing_term(A, Z)\n",
    "    delta = -volume + surface + coulomb +  asymmetry +  pairing\n",
    "    binding_energy = -delta  \n",
    "    return binding_energy"
   ]
  },
  {
   "cell_type": "code",
   "execution_count": null,
   "id": "e1c414c1",
   "metadata": {},
   "outputs": [
    {
     "ename": "SyntaxError",
     "evalue": "invalid syntax (1422924637.py, line 2)",
     "output_type": "error",
     "traceback": [
      "  \u001b[36mCell\u001b[39m\u001b[36m \u001b[39m\u001b[32mIn[1]\u001b[39m\u001b[32m, line 2\u001b[39m\n\u001b[31m    \u001b[39m\u001b[31mZ = #skriv din funktion her <===============================================\u001b[39m\n        ^\n\u001b[31mSyntaxError\u001b[39m\u001b[31m:\u001b[39m invalid syntax\n"
     ]
    }
   ],
   "source": [
    "def stable_z(A):\n",
    "    Z = #skriv din funktion her <===============================================\n",
    "    return int(np.ceil(Z))\n",
    "\n",
    "\n",
    "\n",
    "\n",
    "#Plotter alle forskellige bindingsenergier for forskellige nuklider\n",
    "\n",
    "A_vals = np.arange(6, 300)\n",
    "Z_vals = np.array([stable_z(A) for A in A_vals])    \n",
    "\n",
    "\n",
    "binding_energies = np.array([binding_energy(A, Z)/A for A, Z in zip(A_vals, Z_vals)])\n",
    "plt.figure(figsize=(10, 6))\n",
    "plt.plot(A_vals, binding_energies, marker='o', linestyle='-', color='b')\n",
    "plt.title('Binding Energy per Nucleon vs Mass Number')  \n",
    "plt.xlabel('Mass Number (A)')\n",
    "plt.ylabel('Binding Energy (MeV)')\n",
    "plt.grid()\n",
    "plt.xlim(0, 300)\n",
    "    "
   ]
  }
 ],
 "metadata": {
  "kernelspec": {
   "display_name": "3.11.9",
   "language": "python",
   "name": "python3"
  },
  "language_info": {
   "codemirror_mode": {
    "name": "ipython",
    "version": 3
   },
   "file_extension": ".py",
   "mimetype": "text/x-python",
   "name": "python",
   "nbconvert_exporter": "python",
   "pygments_lexer": "ipython3",
   "version": "3.11.9"
  }
 },
 "nbformat": 4,
 "nbformat_minor": 5
}

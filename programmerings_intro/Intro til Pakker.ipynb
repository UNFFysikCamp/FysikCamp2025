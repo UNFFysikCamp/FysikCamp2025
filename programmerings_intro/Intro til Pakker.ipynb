{
  "cells": [
    {
      "cell_type": "markdown",
      "metadata": {
        "id": "eGinE09ghwbW"
      },
      "source": [
        "# Introduktion til Pakker\n",
        "\n",
        "Her er en \"kort\" introduktion til de pakker, I kommer til at bruge. Pakker er vigtige, da de giver adgang til en masse kommandoer, så man kan løse ting hurtigere."
      ]
    },
    {
      "cell_type": "markdown",
      "metadata": {
        "id": "KSRAOkdjhwbX"
      },
      "source": [
        "## Numpy"
      ]
    },
    {
      "cell_type": "markdown",
      "source": [
        "Numpy er en super brugbar pakke til at lave numeriske ting I python, den måde du henter den er ved `import`"
      ],
      "metadata": {
        "id": "ysYvY3gMmojh"
      }
    },
    {
      "cell_type": "code",
      "execution_count": null,
      "metadata": {
        "id": "ZzrH4O-KhwbX"
      },
      "outputs": [],
      "source": [
        "import numpy as np"
      ]
    },
    {
      "cell_type": "markdown",
      "metadata": {
        "id": "K74PRtLdhwbY"
      },
      "source": [
        "Her bruger vi as til at funktioner fra numpy kan skrive som `np.array` istedet for at skulle skrive `numpy.array` hver gang"
      ]
    },
    {
      "cell_type": "markdown",
      "metadata": {
        "id": "wLgskH_-hwbY"
      },
      "source": [
        "En af de essentialle ting i numpy er `array`, det minder lidt om en liste, men de har en fast længde og er hurtigere at lave operationer på.\n",
        "\n",
        "Du laver et array ud fra en liste således:"
      ]
    },
    {
      "cell_type": "code",
      "execution_count": null,
      "metadata": {
        "id": "22nYEkcwhwbY"
      },
      "outputs": [],
      "source": [
        "x = [1,2,3,4,5]\n",
        "x = np.array(x)\n",
        "x"
      ]
    },
    {
      "cell_type": "markdown",
      "metadata": {
        "id": "YclExbVXhwbZ"
      },
      "source": [
        "Så f.eks. hvis vi gerne vil have at alle tallene bliver ganget med 4 kan vi skrive"
      ]
    },
    {
      "cell_type": "code",
      "execution_count": null,
      "metadata": {
        "id": "v9eY5MgwhwbZ"
      },
      "outputs": [],
      "source": [
        "x*4"
      ]
    },
    {
      "cell_type": "markdown",
      "metadata": {
        "id": "PMaSDFE0hwbZ"
      },
      "source": [
        "De to store begrænsninger er at du kun kan have en type i et array og det er statisk, så længden kan ikke ændres"
      ]
    },
    {
      "cell_type": "markdown",
      "metadata": {
        "id": "Qyt_pZxghwba"
      },
      "source": [
        "Så hvis vi vil lave x længdere kan man bruge `np.append`, men det er meget langsomt fordi den laver et nyt array hver gang, her er der et eksemple på foreskellen i tid"
      ]
    },
    {
      "cell_type": "code",
      "execution_count": null,
      "metadata": {
        "id": "G-QnGuz4hwba"
      },
      "outputs": [],
      "source": [
        "x = np.array([])\n",
        "for i in range(100_000):\n",
        "    x = np.append(x, i)"
      ]
    },
    {
      "cell_type": "code",
      "execution_count": null,
      "metadata": {
        "id": "ns9jJHOehwba"
      },
      "outputs": [],
      "source": [
        "arr = []\n",
        "for i in range(100_000):\n",
        "    arr.append(i)"
      ]
    },
    {
      "cell_type": "markdown",
      "metadata": {
        "id": "_Mjcb_bchwba"
      },
      "source": [
        "Derfor burde du enten bruge append på listen, eller skrive til `array` et direkte, som du kan se et eksemple på her"
      ]
    },
    {
      "cell_type": "code",
      "execution_count": null,
      "metadata": {
        "id": "mr8iMXMZhwba"
      },
      "outputs": [],
      "source": [
        "x = np.zeros(100_000)\n",
        "for i in range(100_000):\n",
        "    x[i] = i"
      ]
    },
    {
      "cell_type": "markdown",
      "metadata": {
        "id": "d6ikRz5Whwba"
      },
      "source": [
        "#### Opgaver\n",
        "\n",
        "Lav et array med alle tal mellem 5 og 800"
      ]
    },
    {
      "cell_type": "code",
      "execution_count": null,
      "metadata": {
        "id": "yLI5rqiIhwbb"
      },
      "outputs": [],
      "source": []
    },
    {
      "cell_type": "markdown",
      "metadata": {
        "id": "E5VtUb6ahwbb"
      },
      "source": [
        "Divider dit array med 5"
      ]
    },
    {
      "cell_type": "code",
      "execution_count": null,
      "metadata": {
        "id": "govQ1efihwbb"
      },
      "outputs": [],
      "source": []
    },
    {
      "cell_type": "markdown",
      "metadata": {
        "id": "BPoFyD8hhwbb"
      },
      "source": [
        "Tag summen af tallene"
      ]
    },
    {
      "cell_type": "code",
      "execution_count": null,
      "metadata": {
        "id": "FBggrbZyhwbb"
      },
      "outputs": [],
      "source": []
    },
    {
      "cell_type": "markdown",
      "metadata": {
        "id": "w3JsOMArhwbb"
      },
      "source": [
        "Lav et nyt array, med 20 navne brug f.eks. arrangører eller andre deltagere og prøv at sortere den"
      ]
    },
    {
      "cell_type": "code",
      "execution_count": null,
      "metadata": {
        "id": "sqzMFejehwbb"
      },
      "outputs": [],
      "source": []
    },
    {
      "cell_type": "markdown",
      "metadata": {
        "id": "vea1MHHDhwbb"
      },
      "source": [
        "Lav et array med 2 dimensioner\n",
        "<details>\n",
        "  <summary>Klik her for et hint! - Vi har ikke introduceret det i notebooken</summary>\n",
        "  \n",
        "  For at lave et to-dimensionelt array skal man bare lave en liste inde i en liste, som f.eks. `[[1,2],[3,4]]` giver en to-dimensionel liste, som så kan laves om til et 2d array med `np.array`\n",
        "</details>"
      ]
    },
    {
      "cell_type": "code",
      "execution_count": null,
      "metadata": {
        "id": "OdVMmz8whwbb"
      },
      "outputs": [],
      "source": []
    },
    {
      "cell_type": "markdown",
      "metadata": {
        "id": "RZz75_Oqhwbc"
      },
      "source": [
        "Hent den første dimension og print den, derefter gør det sammen for den anden\n",
        "<details>\n",
        "  <summary>Klik her for et hint!</summary>\n",
        "  Vi har tidligere refereret til, at man kan hente et element i en liste med `[i]`, for at få det i'te element. Vil man derimod gerne have en dimension af et 2d array, skal man \"slice\" det med `[dimension,:]`, hvor : betyder at man vil fange alle objekter i den dimension.\n",
        "</details>"
      ]
    },
    {
      "cell_type": "code",
      "execution_count": null,
      "metadata": {
        "id": "KmbEaj5bhwbc"
      },
      "outputs": [],
      "source": []
    },
    {
      "cell_type": "markdown",
      "metadata": {
        "id": "NqUXFHohhwbc"
      },
      "source": [
        "### Array fortsat\n",
        "\n",
        "Numpy har mange måder at lave et array, det kunne f.eks. være `np.array`, `np.arange`, `np.linspace`, `ǹp.ones` og `np.zeros`. Den måde `np.arange` virker på er at den laver et array fra start til slut hvor den stiger med en given størrelse (increment) hver gang"
      ]
    },
    {
      "cell_type": "code",
      "execution_count": null,
      "metadata": {
        "id": "fA_ZuWfIhwbc"
      },
      "outputs": [],
      "source": [
        "start = 0\n",
        "slut = 1000\n",
        "increment = 50\n",
        "\n",
        "np.arange(start, slut, increment)"
      ]
    },
    {
      "cell_type": "markdown",
      "source": [
        "Læg mærke til at den ikke medtager \"slut\" i arrayet. Hvis man ville have op til 1000 skulle man derfor sætter \"slut\" til 1001"
      ],
      "metadata": {
        "id": "fN9EP3KPjPDh"
      }
    },
    {
      "cell_type": "markdown",
      "metadata": {
        "id": "wsLmx0tjhwbc"
      },
      "source": [
        "Der er også `np.linspace`, som gør noget lignende `np.arange`. Den tager bare antal af punkter i stedet for increment"
      ]
    },
    {
      "cell_type": "code",
      "execution_count": null,
      "metadata": {
        "id": "mp-BTEIfhwbc"
      },
      "outputs": [],
      "source": [
        "start = 0\n",
        "slut = 1000\n",
        "\n",
        "antal = 10\n",
        "np.linspace(start, slut, antal)"
      ]
    },
    {
      "cell_type": "markdown",
      "metadata": {
        "id": "czmUHqzRhwbc"
      },
      "source": [
        "`np.ones` og `np.zeroes` lavet et array med henholdsvis et taller eller nuller i en given størrelse"
      ]
    },
    {
      "cell_type": "code",
      "execution_count": null,
      "metadata": {
        "id": "hbVmQPFzhwbd"
      },
      "outputs": [],
      "source": [
        "np.ones(antal)"
      ]
    },
    {
      "cell_type": "markdown",
      "metadata": {
        "id": "xK-aL-2zhwbd"
      },
      "source": [
        "#### Opgaver"
      ]
    },
    {
      "cell_type": "markdown",
      "metadata": {
        "id": "QgTzvU_mhwbd"
      },
      "source": [
        "Lav et array med alle lige tal mellem 0 og 200"
      ]
    },
    {
      "cell_type": "code",
      "execution_count": null,
      "metadata": {
        "id": "f2Zquu5Dhwbd"
      },
      "outputs": [],
      "source": []
    },
    {
      "cell_type": "markdown",
      "metadata": {
        "id": "7iPCkmbihwbd"
      },
      "source": [
        "Lav et array som har 1000 tal mellem 0 og 1"
      ]
    },
    {
      "cell_type": "code",
      "execution_count": null,
      "metadata": {
        "id": "Zgwyi6tahwbd"
      },
      "outputs": [],
      "source": []
    },
    {
      "cell_type": "markdown",
      "metadata": {
        "id": "ZKxSjvDRhwbd"
      },
      "source": [
        "Lav et array med 100, to-taller"
      ]
    },
    {
      "cell_type": "code",
      "execution_count": null,
      "metadata": {
        "id": "6kIppN6Nhwbe"
      },
      "outputs": [],
      "source": []
    },
    {
      "cell_type": "markdown",
      "metadata": {
        "id": "YVK_ukd9hwbh"
      },
      "source": [
        "Lav et array som går fra 1 ned til 0, hvor der er 100 tal"
      ]
    },
    {
      "cell_type": "code",
      "execution_count": null,
      "metadata": {
        "id": "8bybf4eyhwbh"
      },
      "outputs": [],
      "source": []
    },
    {
      "cell_type": "markdown",
      "metadata": {
        "id": "D58J4Vuthwbi"
      },
      "source": [
        "Lav et array der går fra 100 og falder med 1 til og med 0"
      ]
    },
    {
      "cell_type": "code",
      "execution_count": null,
      "metadata": {
        "id": "RCXOvaYyhwbi"
      },
      "outputs": [],
      "source": []
    },
    {
      "cell_type": "markdown",
      "metadata": {
        "id": "HrBa1yafhwbi"
      },
      "source": [
        "### Matematik\n",
        "\n",
        "Så numpy har også rigtig mange, meget brugbare, matematiske funktioner, som f.eks `cosinus`, `sinus`, `tangens`, `kvadratrødder` og `eksponential`. Du kan bruge alle numpy's funktioner på numpy's arrays uden problemer.\n",
        "\n",
        "Så de fleste funktioner er defineret ud fra de tre første, bogstaver som det er i de fleste matematik programmer, så f.eks. er cosinus `np.cos`, eller eksponential er `np.exp`. Det du skal være opmærksom på er at de trigometriske funktioner er defineret for radianer, som du kan konvertere til ved at bruge `np.radians`.\n",
        "\n",
        "For at skrive kvadratrod burger vi, `np.sqrt`, eller for kubikrod er det `np.cbrt`\n",
        "\n",
        " `np.log` er den naturlige logaritme.\n",
        "\n",
        "Hvis du vil bruge andre typer af logaritme kan du bruge `np.log10` for ti-tals logaritmen, mens en arbitrær logaritme er lidt sværere, der skal vi bruge lidt matematik, så vi ved at\n",
        "\n",
        "$a^{\\log_a(x)} = x$, også kan vi sige at $\\log(x)=\\log(a^{\\log_a(x)})= \\log_a(x)\\log(a)$ så kan vi isolere at $\\log_a(x) = \\frac{\\log(x)}{\\log(a)}$, derfor kan du regne for en vilkårlig logirithme."
      ]
    },
    {
      "cell_type": "code",
      "execution_count": null,
      "metadata": {
        "id": "tn6iWzFahwbi"
      },
      "outputs": [],
      "source": [
        "x = np.linspace(0, 4, 10)"
      ]
    },
    {
      "cell_type": "markdown",
      "metadata": {
        "id": "G7LceX9phwbi"
      },
      "source": [
        "#### Opgaver\n",
        "Regn cosinus til `x`"
      ]
    },
    {
      "cell_type": "code",
      "execution_count": null,
      "metadata": {
        "id": "pX4Te_-Rhwbi"
      },
      "outputs": [],
      "source": []
    },
    {
      "cell_type": "markdown",
      "metadata": {
        "id": "JP_xk88jhwbi"
      },
      "source": [
        "Regn sinus af `x`"
      ]
    },
    {
      "cell_type": "code",
      "execution_count": null,
      "metadata": {
        "id": "EBnFAcUHhwbi"
      },
      "outputs": [],
      "source": []
    },
    {
      "cell_type": "markdown",
      "metadata": {
        "id": "ls0Wwzwkhwbi"
      },
      "source": [
        "Regn Tangens af `x`"
      ]
    },
    {
      "cell_type": "code",
      "execution_count": null,
      "metadata": {
        "id": "s-bLFFTMhwbi"
      },
      "outputs": [],
      "source": []
    },
    {
      "cell_type": "markdown",
      "metadata": {
        "id": "9iULA-XJhwbi"
      },
      "source": [
        "Regn $e^{-x}$"
      ]
    },
    {
      "cell_type": "code",
      "execution_count": null,
      "metadata": {
        "id": "uP4qUnvqhwbj"
      },
      "outputs": [],
      "source": []
    },
    {
      "cell_type": "markdown",
      "metadata": {
        "id": "JfYQlbZwhwbj"
      },
      "source": [
        "Regn $\\log_e$ for værdierne 1, 2, e, $\\frac{1}{e}$"
      ]
    },
    {
      "cell_type": "code",
      "execution_count": null,
      "metadata": {
        "id": "a5JAObbghwbj"
      },
      "outputs": [],
      "source": []
    },
    {
      "cell_type": "markdown",
      "metadata": {
        "id": "IDHCmqeQhwbj"
      },
      "source": [
        "Regn $\\log_{10}$ for værdierne 1, 2, e, 10"
      ]
    },
    {
      "cell_type": "code",
      "execution_count": null,
      "metadata": {
        "id": "pMFnmuVChwbj"
      },
      "outputs": [],
      "source": []
    },
    {
      "cell_type": "markdown",
      "metadata": {
        "id": "dhck8uZUhwbj"
      },
      "source": [
        "Regn $\\log_{2}$ for værdierne 1, 2, e, $\\frac{1}{2}$, $\\frac{2}{e}$"
      ]
    },
    {
      "cell_type": "code",
      "execution_count": null,
      "metadata": {
        "id": "MnTuihCIhwbj"
      },
      "outputs": [],
      "source": []
    },
    {
      "cell_type": "markdown",
      "metadata": {
        "id": "7peK5ssXhwbj"
      },
      "source": [
        "## Matplotlib"
      ]
    },
    {
      "cell_type": "code",
      "execution_count": null,
      "metadata": {
        "id": "WYj5mDBVhwbj"
      },
      "outputs": [],
      "source": [
        "import matplotlib.pyplot as plt"
      ]
    },
    {
      "cell_type": "markdown",
      "metadata": {
        "id": "Mj1-Rv3chwbj"
      },
      "source": [
        "Matplot er rigtig godt til at vise data, den generalle måde at ved at bruge `plt.plot`"
      ]
    },
    {
      "cell_type": "code",
      "execution_count": null,
      "metadata": {
        "id": "Z_-6Mjmjhwbj"
      },
      "outputs": [],
      "source": [
        "x = np.random.rand(10)\n",
        "y = 2*np.random.rand(10)\n",
        "plt.plot(x, y)"
      ]
    },
    {
      "cell_type": "markdown",
      "metadata": {
        "id": "xGBLWkJEhwbk"
      },
      "source": [
        "Men så hvis vi gerne vil have punkter skriver vi `'o'` efter"
      ]
    },
    {
      "cell_type": "code",
      "execution_count": null,
      "metadata": {
        "id": "lyRqH1n-hwbk"
      },
      "outputs": [],
      "source": [
        "plt.plot(x, y, 'o')"
      ]
    },
    {
      "cell_type": "markdown",
      "metadata": {
        "id": "v9l2mJhghwbk"
      },
      "source": [
        "Så hvis vi gerne vil have et grid, akse titler, eller legend skal du"
      ]
    },
    {
      "cell_type": "code",
      "execution_count": null,
      "metadata": {
        "id": "Ou36AKzYhwbk"
      },
      "outputs": [],
      "source": [
        "plt.plot(x, y, 'o', label='Legend')\n",
        "plt.legend()\n",
        "plt.title('Test title')\n",
        "plt.xlabel('X aksen')\n",
        "plt.ylabel('Y aksen')\n",
        "plt.grid()"
      ]
    },
    {
      "cell_type": "markdown",
      "metadata": {
        "id": "euRl9BTEhwbk"
      },
      "source": [
        "Så det du skal tage væk fra er at pæne grafer tager tid, og kan være langtrukkende."
      ]
    },
    {
      "cell_type": "markdown",
      "metadata": {
        "id": "l5L1xFzNhwbk"
      },
      "source": [
        "#### Opgaver"
      ]
    },
    {
      "cell_type": "markdown",
      "metadata": {
        "id": "gRj13TOVhwbk"
      },
      "source": [
        "Lav et plot for to arrays, et fra 0 til 10 med 100 punkter og et fra 0 til 1 med 100 punkter"
      ]
    },
    {
      "cell_type": "code",
      "execution_count": null,
      "metadata": {
        "id": "dtb5fgpbhwbk"
      },
      "outputs": [],
      "source": []
    },
    {
      "cell_type": "markdown",
      "metadata": {
        "id": "0SXToyJkhwbk"
      },
      "source": [
        "Lav akse titler på grafen"
      ]
    },
    {
      "cell_type": "code",
      "execution_count": null,
      "metadata": {
        "id": "KDUBwpF6hwbl"
      },
      "outputs": [],
      "source": []
    },
    {
      "cell_type": "markdown",
      "metadata": {
        "id": "xJhflIwghwbl"
      },
      "source": [
        "Lav legends på grafen"
      ]
    },
    {
      "cell_type": "code",
      "execution_count": null,
      "metadata": {
        "id": "B1yKvlU4hwbl"
      },
      "outputs": [],
      "source": []
    },
    {
      "cell_type": "markdown",
      "metadata": {
        "id": "FGu3bMzahwbl"
      },
      "source": [
        "Lav endnu et set 'data' som har er x punkter mellem 0 og 10 med en stining på 0.0075 og en y akse mellem 0 og 1 med en stining på 0.0015, og plot det i samme graf som den anden. (Hint: prøv med plot to gang )"
      ]
    },
    {
      "cell_type": "code",
      "execution_count": null,
      "metadata": {
        "id": "SzZVDGnjhwbl"
      },
      "outputs": [],
      "source": []
    },
    {
      "cell_type": "markdown",
      "metadata": {
        "id": "xi0jgHihhwbl"
      },
      "source": [
        "Prøv at sætte legends på, og bruge color til at ændre farven, husk det er engelske navne."
      ]
    },
    {
      "cell_type": "code",
      "execution_count": null,
      "metadata": {
        "id": "6zuPvruVhwbl"
      },
      "outputs": [],
      "source": []
    },
    {
      "cell_type": "markdown",
      "metadata": {
        "id": "x6XLwycYhwbl"
      },
      "source": [
        "Prøv at plotte sinus mellem 0 og 10"
      ]
    },
    {
      "cell_type": "code",
      "execution_count": null,
      "metadata": {
        "id": "LltNm_8bhwbl"
      },
      "outputs": [],
      "source": []
    },
    {
      "cell_type": "markdown",
      "metadata": {
        "id": "Q--lHFCrhwbl"
      },
      "source": [
        "Prøv at plotte eksponentialfunktionen mellem 0 og 1, med akse titler, legend og et grid"
      ]
    },
    {
      "cell_type": "code",
      "execution_count": null,
      "metadata": {
        "id": "gjyW7Rikhwbl"
      },
      "outputs": [],
      "source": []
    },
    {
      "cell_type": "markdown",
      "metadata": {
        "id": "Kxy6t_rYhwbm"
      },
      "source": [
        "## Curve_fit\n"
      ]
    },
    {
      "cell_type": "code",
      "execution_count": null,
      "metadata": {
        "id": "TxS-im9vhwbm"
      },
      "outputs": [],
      "source": [
        "from scipy.optimize import curve_fit"
      ]
    },
    {
      "cell_type": "markdown",
      "metadata": {
        "id": "UHkKS5bvhwbm"
      },
      "source": [
        "For at finde fit for en funktion i python bruger vi `curve_fit` fra scipy. Den måde det virker på er at vi definere en funktion som tager `x` som det første argument, og dine parameter som de andre"
      ]
    },
    {
      "cell_type": "code",
      "execution_count": null,
      "metadata": {
        "id": "Wj_IUPFKhwbm"
      },
      "outputs": [],
      "source": [
        "def linear(x, a, b):\n",
        "    return a*x + b\n",
        "\n",
        "x = np.random.rand(100)\n",
        "y = (np.random.rand(100)+1)*x +2"
      ]
    },
    {
      "cell_type": "markdown",
      "metadata": {
        "id": "3ZB5-wxJhwbm"
      },
      "source": [
        "Nu bruger vi `curve_fit`, så først skriver vi funktionen in også dataen, så skriver p0 for at give et start gæt"
      ]
    },
    {
      "cell_type": "code",
      "execution_count": null,
      "metadata": {
        "id": "FSPzy_hghwbm"
      },
      "outputs": [],
      "source": [
        "param, _ = curve_fit(linear, x, y, p0 = (2,2))"
      ]
    },
    {
      "cell_type": "markdown",
      "metadata": {
        "id": "h-b5Duljhwbm"
      },
      "source": [
        "Så for at vise det skriver vi `linear(x, *param)`, for at give dataen og parameterne, hvis vi gerne vil bruge en højere opløsning kan vi genere et array istedet for `x` med f.eks. `np.linspace`, også printer vi `param` for at se hvad parameterne er."
      ]
    },
    {
      "cell_type": "code",
      "execution_count": null,
      "metadata": {
        "id": "t3parVcthwbm"
      },
      "outputs": [],
      "source": [
        "plt.plot(x, y, 'o', label = 'punkter')\n",
        "plt.plot(x, linear(x, *param), label = 'linear')\n",
        "plt.legend()\n",
        "print(param)"
      ]
    },
    {
      "cell_type": "markdown",
      "metadata": {
        "id": "-lxt2_zhhwbn"
      },
      "source": [
        "#### Opgaver"
      ]
    },
    {
      "cell_type": "code",
      "execution_count": null,
      "metadata": {
        "id": "2dMujCREhwbn"
      },
      "outputs": [],
      "source": [
        "x = np.random.rand(1000)*10\n",
        "y = np.random.rand(1000) * 2 * x**2 + np.random.rand(1000)"
      ]
    },
    {
      "cell_type": "markdown",
      "metadata": {
        "id": "-27dewBfhwbn"
      },
      "source": [
        "Prøv at fitte ligningen $ax+b$, til x, y"
      ]
    },
    {
      "cell_type": "code",
      "execution_count": null,
      "metadata": {
        "id": "vTwlAptvhwbn"
      },
      "outputs": [],
      "source": []
    },
    {
      "cell_type": "markdown",
      "metadata": {
        "id": "IB_eMTQOhwbn"
      },
      "source": [
        "Prøv at fitte ligningen $ax^2+bx+c$, til x, y"
      ]
    },
    {
      "cell_type": "code",
      "execution_count": null,
      "metadata": {
        "id": "w3QUYkylhwbn"
      },
      "outputs": [],
      "source": []
    },
    {
      "cell_type": "markdown",
      "metadata": {
        "id": "yljw8ZrHhwbn"
      },
      "source": [
        "Prøv at fitte ligningen til $ae^{-kx}+be^{kx}$"
      ]
    },
    {
      "cell_type": "code",
      "execution_count": null,
      "metadata": {
        "id": "OVLuEwzOhwbn"
      },
      "outputs": [],
      "source": []
    },
    {
      "cell_type": "markdown",
      "metadata": {
        "id": "Eu0lzGZnhwbo"
      },
      "source": [
        "## Numpy lineær algebra"
      ]
    },
    {
      "cell_type": "markdown",
      "source": [
        "I numpy kan du regne med lineær algebra, som er den generelle del at matematik som vektorregning er en del af.\n",
        "\n",
        "For at lave et prik produkt, skal du skrive `np.dot`. Den tager to arrays ind, som er dine vektorer, og laver prikproduktet.\n",
        "\n",
        "Hvis du til gengæld vil regne med krydsprodukter, skal du skrive `np.cross`. Den tager to vektorer i 3 dimensioner ind og giver krydsproduktet.\n",
        "\n",
        "Her er et eksempel på de to funktioner"
      ],
      "metadata": {
        "id": "IYRTPqhhmrQw"
      }
    },
    {
      "cell_type": "code",
      "execution_count": null,
      "metadata": {
        "id": "z0VDy_pPhwbo"
      },
      "outputs": [],
      "source": [
        "import numpy as np"
      ]
    },
    {
      "cell_type": "code",
      "execution_count": null,
      "metadata": {
        "id": "40xBHnFShwbo"
      },
      "outputs": [],
      "source": [
        "x = np.array([1, 1, 1])\n",
        "y = np.array([1, 2, 3])"
      ]
    },
    {
      "cell_type": "code",
      "execution_count": null,
      "metadata": {
        "id": "L5iBOb3Bhwbo"
      },
      "outputs": [],
      "source": [
        "np.dot(x,y)"
      ]
    },
    {
      "cell_type": "code",
      "execution_count": null,
      "metadata": {
        "id": "tbfwQJXYhwbo"
      },
      "outputs": [],
      "source": [
        "np.cross(x,y)"
      ]
    },
    {
      "cell_type": "markdown",
      "metadata": {
        "id": "QEgYREdahwbo"
      },
      "source": [
        "#### Opgaver\n",
        "\n",
        "Lav prik og kryds produktet for vektorne $(1, 2, 4)$ og $(2, 77, 6)$"
      ]
    },
    {
      "cell_type": "code",
      "execution_count": null,
      "metadata": {
        "id": "a-tw_ulzhwbo"
      },
      "outputs": [],
      "source": []
    },
    {
      "cell_type": "markdown",
      "metadata": {
        "id": "w4SwRiHyhwbo"
      },
      "source": [
        "Lav prik og kryds produktet for vektorne $(1213124, 21231, 43124124)$ og $(2436346, 346577, 67657)$"
      ]
    },
    {
      "cell_type": "code",
      "execution_count": null,
      "metadata": {
        "id": "gxTqp4iZhwbo"
      },
      "outputs": [],
      "source": []
    },
    {
      "cell_type": "markdown",
      "metadata": {
        "id": "uLcT8wbNhwbo"
      },
      "source": [
        "## Sympy"
      ]
    },
    {
      "cell_type": "markdown",
      "source": [
        "I python er der en pakke, som har de samme funktioner som jeres CAS værktøj. Den hedder sympy (symbolsk python), så det er hvordan vi regner analytisk i python."
      ],
      "metadata": {
        "id": "mg-QR1BCnd4B"
      }
    },
    {
      "cell_type": "code",
      "execution_count": null,
      "metadata": {
        "id": "x6DtFTudhwbo"
      },
      "outputs": [],
      "source": [
        "import sympy as sp"
      ]
    },
    {
      "cell_type": "markdown",
      "metadata": {
        "id": "XcqXGXMchwbp"
      },
      "source": [
        "I sympy bruger man symboler. I python skal alt være defineret på forhånd, for at du kan bruge dem i sympy, derfor skal du definere hvilke variabler, du vil bruge. Det gør vi med `sp.symbols`"
      ]
    },
    {
      "cell_type": "code",
      "execution_count": null,
      "metadata": {
        "id": "Kb2oxaYLhwbp"
      },
      "outputs": [],
      "source": [
        "x, y = sp.symbols('x y')"
      ]
    },
    {
      "cell_type": "markdown",
      "metadata": {
        "id": "1c2Gk0oShwbp"
      },
      "source": [
        "Her bruger den mellemrum til at separere variablene. Man kan også skrive andet end det latinske alfabet, her skal generelt bare bruges et backslash( \\ ), f.eks. \\alpha er $\\alpha$.\n",
        "\n",
        "Selvfølgelig kan vi også lave matematik og skrive ligninger med de her symboler. De er defineret på samme måde som med numpy, hvor cosinus vil blive `sp.cos`, og kvadratrod er `sp.sqrt`. Hvis vi nu gerne ville lave ligningen $\\sqrt{x}=y^2$, skal vi skrive den om så den er lig med 0, så det bliver $\\sqrt{x}-y^2=0$, da vi bare kan trække den ene side fra."
      ]
    },
    {
      "cell_type": "code",
      "execution_count": null,
      "metadata": {
        "id": "18IX2fcVhwbp"
      },
      "outputs": [],
      "source": [
        "ligning = sp.sqrt(x) - y**2"
      ]
    },
    {
      "cell_type": "markdown",
      "metadata": {
        "id": "q-piTg7hhwbp"
      },
      "source": [
        "Herefter bruger vi `sp.solve`, for at løse ligningen. Den tager to input: en ligning som er lig nul, og hvad du vil løse for. Den giver en liste af løsninger, derfor tager vi indeks nul da vi kun er interesseret i den første løsning."
      ]
    },
    {
      "cell_type": "code",
      "execution_count": null,
      "metadata": {
        "id": "m-EhFepyhwbp"
      },
      "outputs": [],
      "source": [
        "sp.solve(ligning, x)[0]"
      ]
    },
    {
      "cell_type": "markdown",
      "metadata": {
        "id": "pfx9KNUDhwbp"
      },
      "source": [
        "Hvis vi f.eks. vil løse for $\\cos(x) = y$, så skriver vi det om så $\\cos(x)- y = 0$, hvilket giver"
      ]
    },
    {
      "cell_type": "code",
      "execution_count": null,
      "metadata": {
        "id": "ZT3egjE_hwbp"
      },
      "outputs": [],
      "source": [
        "ligning = sp.cos(x) - y\n",
        "solution = sp.solve(ligning, x)\n",
        "solution"
      ]
    },
    {
      "cell_type": "markdown",
      "metadata": {
        "id": "-Z6VPCmuhwbp"
      },
      "source": [
        "Det giver to løsninger og vi vil gerne den anden løsning så"
      ]
    },
    {
      "cell_type": "code",
      "execution_count": null,
      "metadata": {
        "id": "u2nnnD3Ehwbq"
      },
      "outputs": [],
      "source": [
        "solution[1]"
      ]
    },
    {
      "cell_type": "markdown",
      "metadata": {
        "id": "qOcfppv3hwbq"
      },
      "source": [
        "Hvis vi gerne vil sætte tal ind, skal vi substituere vores symbol med tal, hvilket gøres med `subs`, som tager variablen du vil sætte ind på og værdien."
      ]
    },
    {
      "cell_type": "code",
      "execution_count": null,
      "metadata": {
        "id": "YBvhINbEhwbq"
      },
      "outputs": [],
      "source": [
        "solution[1].subs(y, 0)"
      ]
    },
    {
      "cell_type": "markdown",
      "metadata": {
        "id": "gUiffAVxhwbq"
      },
      "source": [
        "Vi kan desuden skrive løsningen op med tal, men også få den faktiske talværdi ud. Dette kan `evalf` være meget brugbar til."
      ]
    },
    {
      "cell_type": "code",
      "execution_count": null,
      "metadata": {
        "id": "yAQJbJGThwbq"
      },
      "outputs": [],
      "source": [
        "solution[1].subs(y, 0)"
      ]
    },
    {
      "cell_type": "code",
      "execution_count": null,
      "metadata": {
        "id": "UqoJFrNDhwbq"
      },
      "outputs": [],
      "source": [
        "solution[1].subs(y, 0).evalf()"
      ]
    },
    {
      "cell_type": "markdown",
      "metadata": {
        "id": "3KUBOIT-hwbq"
      },
      "source": [
        "Hvis du vil simplificere dit udtryk, kan du bruge `sp.simplify`, som tager en ligning ind og simplificerer den."
      ]
    },
    {
      "cell_type": "code",
      "execution_count": null,
      "metadata": {
        "id": "l1K6nN-chwbr"
      },
      "outputs": [],
      "source": [
        "udtryk = sp.sin(x)**2 + sp.cos(x)**2 + x** 2 + x + 1\n",
        "udtryk"
      ]
    },
    {
      "cell_type": "code",
      "execution_count": null,
      "metadata": {
        "id": "Pn6Hbw0Thwbr"
      },
      "outputs": [],
      "source": [
        "udtryk = sp.simplify(udtryk)\n",
        "udtryk"
      ]
    },
    {
      "cell_type": "markdown",
      "metadata": {
        "id": "HmTo6cWzhwbr"
      },
      "source": [
        "I matematik har I lært at diffentiere og integrerer. Dette kan sympy selvfølgelig også, det virker gennem `sp.diff` og `sp.integrate`. Begge funktioner tager bare udtrykket, og variablen som input"
      ]
    },
    {
      "cell_type": "code",
      "execution_count": null,
      "metadata": {
        "id": "Iv7p1iiuhwbr"
      },
      "outputs": [],
      "source": [
        "sp.diff(udtryk, x)"
      ]
    },
    {
      "cell_type": "code",
      "execution_count": null,
      "metadata": {
        "id": "_i46J6O7hwbr"
      },
      "outputs": [],
      "source": [
        "sp.integrate(udtryk, x)"
      ]
    },
    {
      "cell_type": "markdown",
      "metadata": {
        "id": "BfbiOx2Vhwbr"
      },
      "source": [
        "Men det kan jo også være du vil have grænser for at lave et bestemt integral, det skal gives med variable som en tuple, det vil sige med parenteser, med (variable, start, slut), hvor `sp.oo` er uendelig\n",
        "\n",
        "så $\\int_0^{\\infty}x^2+x+2 dx$ kan vi skrive det som"
      ]
    },
    {
      "cell_type": "code",
      "execution_count": null,
      "metadata": {
        "id": "reCVenbphwbr"
      },
      "outputs": [],
      "source": [
        "sp.integrate(udtryk, (x, 0, sp.oo))"
      ]
    },
    {
      "cell_type": "markdown",
      "metadata": {
        "id": "Ey34HWkuhwbs"
      },
      "source": [
        "Mens $\\int_0^{1}x^2+x+2 dx$"
      ]
    },
    {
      "cell_type": "code",
      "execution_count": null,
      "metadata": {
        "id": "Qc4brHCXhwbs"
      },
      "outputs": [],
      "source": [
        "sp.integrate(udtryk, (x, 0, 1))"
      ]
    },
    {
      "cell_type": "markdown",
      "metadata": {
        "id": "55feffSchwbs"
      },
      "source": [
        "#### Opgaver\n",
        "\n",
        "Løs ligningen $x^5 + 27y^3 - 12 c = 4172y$ for $x$"
      ]
    },
    {
      "cell_type": "code",
      "execution_count": null,
      "metadata": {
        "id": "MvKNv2zIhwbs"
      },
      "outputs": [],
      "source": []
    },
    {
      "cell_type": "markdown",
      "metadata": {
        "id": "siogZkYphwbs"
      },
      "source": [
        "Løs ligning $y^3+y^2+27y= 14$"
      ]
    },
    {
      "cell_type": "code",
      "execution_count": null,
      "metadata": {
        "id": "zuBbBRv9hwbs"
      },
      "outputs": [],
      "source": []
    },
    {
      "cell_type": "markdown",
      "metadata": {
        "id": "ycK0i1Vuhwbs"
      },
      "source": [
        "Diffentier og interger $x^5 + 27y^3 - 12 c = 4172y$ ift. $x$"
      ]
    },
    {
      "cell_type": "code",
      "execution_count": null,
      "metadata": {
        "id": "RwYQjR47hwbs"
      },
      "outputs": [],
      "source": []
    },
    {
      "cell_type": "markdown",
      "metadata": {
        "id": "N1M985cchwbs"
      },
      "source": [
        "Lav integralet $\\int_{-\\infty}^\\infty e^{-x^2} dx$, med både numerisk og analytisk resultat"
      ]
    },
    {
      "cell_type": "code",
      "execution_count": null,
      "metadata": {
        "id": "BhOoFD9Ahwbs"
      },
      "outputs": [],
      "source": []
    },
    {
      "cell_type": "markdown",
      "metadata": {
        "id": "T5XPq1Qhhwbs"
      },
      "source": [
        "Lav integralet $\\int e^{-x^2} dx$"
      ]
    },
    {
      "cell_type": "code",
      "execution_count": null,
      "metadata": {
        "id": "EYhWJTochwbs"
      },
      "outputs": [],
      "source": []
    },
    {
      "cell_type": "markdown",
      "metadata": {
        "id": "Hr0bUSakhwbt"
      },
      "source": [
        "Indsæt tallet 27 i udtrykket fra opgaven før"
      ]
    },
    {
      "cell_type": "code",
      "execution_count": null,
      "metadata": {
        "id": "Zr6GoIekhwbt"
      },
      "outputs": [],
      "source": []
    },
    {
      "cell_type": "markdown",
      "metadata": {
        "id": "xuYVC3_Hhwbt"
      },
      "source": [
        "Diffentiere og integraret $e^{-x^2} + e^{-x^5} + x^2\\cdot e^{-x} + x\\cdot e^{-2x^2}$"
      ]
    },
    {
      "cell_type": "code",
      "execution_count": null,
      "metadata": {
        "id": "NoyYvVLchwbt"
      },
      "outputs": [],
      "source": []
    }
  ],
  "metadata": {
    "kernelspec": {
      "display_name": "Python 3",
      "language": "python",
      "name": "python3"
    },
    "language_info": {
      "codemirror_mode": {
        "name": "ipython",
        "version": 3
      },
      "file_extension": ".py",
      "mimetype": "text/x-python",
      "name": "python",
      "nbconvert_exporter": "python",
      "pygments_lexer": "ipython3",
      "version": "3.11.8"
    },
    "colab": {
      "provenance": []
    }
  },
  "nbformat": 4,
  "nbformat_minor": 0
}